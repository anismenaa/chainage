{
  "nbformat": 4,
  "nbformat_minor": 0,
  "metadata": {
    "kernelspec": {
      "display_name": "Python 3 (ipykernel)",
      "language": "python",
      "name": "python3"
    },
    "language_info": {
      "codemirror_mode": {
        "name": "ipython",
        "version": 3
      },
      "file_extension": ".py",
      "mimetype": "text/x-python",
      "name": "python",
      "nbconvert_exporter": "python",
      "pygments_lexer": "ipython3",
      "version": "3.8.7"
    },
    "colab": {
      "name": "Colab_TP3_SPARK-SQL.ipynb",
      "provenance": [],
      "include_colab_link": true
    }
  },
  "cells": [
    {
      "cell_type": "markdown",
      "metadata": {
        "id": "view-in-github",
        "colab_type": "text"
      },
      "source": [
        "<a href=\"https://colab.research.google.com/github/anismenaa/chainage/blob/main/Colab_TP3_SPARK_SQL.ipynb\" target=\"_parent\"><img src=\"https://colab.research.google.com/assets/colab-badge.svg\" alt=\"Open In Colab\"/></a>"
      ]
    },
    {
      "cell_type": "markdown",
      "metadata": {
        "id": "CIwrCwp2Km_M"
      },
      "source": [
        "## Installation de spark-cluster & findspark, pyspark "
      ]
    },
    {
      "cell_type": "code",
      "metadata": {
        "colab": {
          "base_uri": "https://localhost:8080/"
        },
        "id": "kMDjtaJeKm_S",
        "outputId": "c792ce4f-5452-4d12-a782-2b4232ef1e5d"
      },
      "source": [
        "# innstall java\n",
        "!apt-get install openjdk-8-jdk-headless -qq > /dev/null\n",
        "\n",
        "# install spark (change the version number if needed)\n",
        "!wget -q https://dlcdn.apache.org/spark/spark-3.2.0/spark-3.2.0-bin-hadoop2.7.tgz\n",
        "\n",
        "# unzip the spark file to the current folder\n",
        "!tar xf spark-3.2.0-bin-hadoop2.7.tgz\n",
        "\n",
        "# set your spark folder to your system path environment. \n",
        "import os\n",
        "os.environ[\"JAVA_HOME\"] = \"/usr/lib/jvm/java-8-openjdk-amd64\"\n",
        "os.environ[\"SPARK_HOME\"] = \"/content/spark-3.2.0-bin-hadoop2.7\"\n",
        "\n",
        "\n",
        "# install findspark using pip\n",
        "!pip install -q findspark\n",
        "\n",
        "# install pyspark\n",
        "!pip install pyspark"
      ],
      "execution_count": 1,
      "outputs": [
        {
          "output_type": "stream",
          "name": "stdout",
          "text": [
            "Collecting pyspark\n",
            "  Downloading pyspark-3.2.0.tar.gz (281.3 MB)\n",
            "\u001b[K     |████████████████████████████████| 281.3 MB 35 kB/s \n",
            "\u001b[?25hCollecting py4j==0.10.9.2\n",
            "  Downloading py4j-0.10.9.2-py2.py3-none-any.whl (198 kB)\n",
            "\u001b[K     |████████████████████████████████| 198 kB 50.1 MB/s \n",
            "\u001b[?25hBuilding wheels for collected packages: pyspark\n",
            "  Building wheel for pyspark (setup.py) ... \u001b[?25l\u001b[?25hdone\n",
            "  Created wheel for pyspark: filename=pyspark-3.2.0-py2.py3-none-any.whl size=281805912 sha256=6f1289fb5c51113c12e099191e992c7a161244ce2af734c60b7764a71c3d01c5\n",
            "  Stored in directory: /root/.cache/pip/wheels/0b/de/d2/9be5d59d7331c6c2a7c1b6d1a4f463ce107332b1ecd4e80718\n",
            "Successfully built pyspark\n",
            "Installing collected packages: py4j, pyspark\n",
            "Successfully installed py4j-0.10.9.2 pyspark-3.2.0\n"
          ]
        }
      ]
    },
    {
      "cell_type": "markdown",
      "metadata": {
        "id": "tJxAO6fBKm_W"
      },
      "source": [
        "# importation et initialisation de Spark"
      ]
    },
    {
      "cell_type": "code",
      "metadata": {
        "id": "zZzGxdqcKm_X"
      },
      "source": [
        "import findspark \n",
        "findspark.init()"
      ],
      "execution_count": 2,
      "outputs": []
    },
    {
      "cell_type": "markdown",
      "metadata": {
        "id": "3dH_tVZTKm_Y"
      },
      "source": [
        "## importer PySpark et initialiser SparkContext\n",
        "![image.png](attachment:image.png)"
      ]
    },
    {
      "cell_type": "code",
      "metadata": {
        "id": "NxeRDO-NKm_Y"
      },
      "source": [
        "from pyspark.sql import SparkSession\n",
        "session =SparkSession.builder.master(\"local\").appName(\"FirstApp\").getOrCreate() \n"
      ],
      "execution_count": 3,
      "outputs": []
    },
    {
      "cell_type": "markdown",
      "metadata": {
        "id": "RTIpIfgbKm_Y"
      },
      "source": [
        "### Lecture des données"
      ]
    },
    {
      "cell_type": "code",
      "metadata": {
        "id": "einAkMIrKm_Z"
      },
      "source": [
        "books_df = session.read.csv('books.csv', header=True, inferSchema=True) "
      ],
      "execution_count": 4,
      "outputs": []
    },
    {
      "cell_type": "markdown",
      "metadata": {
        "id": "c3RZ6-WgKm_a"
      },
      "source": [
        "### Afficher des Informations sur le  schéma"
      ]
    },
    {
      "cell_type": "code",
      "metadata": {
        "colab": {
          "base_uri": "https://localhost:8080/"
        },
        "id": "P0gMwWtFKm_a",
        "outputId": "92e19b55-68f0-4d97-bad6-1ef0798ab0d8"
      },
      "source": [
        "books_df.printSchema()"
      ],
      "execution_count": 5,
      "outputs": [
        {
          "output_type": "stream",
          "name": "stdout",
          "text": [
            "root\n",
            " |-- id: integer (nullable = true)\n",
            " |-- book_id: integer (nullable = true)\n",
            " |-- best_book_id: integer (nullable = true)\n",
            " |-- work_id: integer (nullable = true)\n",
            " |-- books_count: integer (nullable = true)\n",
            " |-- isbn: string (nullable = true)\n",
            " |-- isbn13: double (nullable = true)\n",
            " |-- authors: string (nullable = true)\n",
            " |-- original_publication_year: double (nullable = true)\n",
            " |-- original_title: string (nullable = true)\n",
            " |-- title: string (nullable = true)\n",
            " |-- language_code: string (nullable = true)\n",
            " |-- average_rating: string (nullable = true)\n",
            " |-- ratings_count: string (nullable = true)\n",
            " |-- work_ratings_count: string (nullable = true)\n",
            " |-- work_text_reviews_count: string (nullable = true)\n",
            " |-- ratings_1: double (nullable = true)\n",
            " |-- ratings_2: integer (nullable = true)\n",
            " |-- ratings_3: integer (nullable = true)\n",
            " |-- ratings_4: integer (nullable = true)\n",
            " |-- ratings_5: integer (nullable = true)\n",
            " |-- image_url: string (nullable = true)\n",
            " |-- small_image_url: string (nullable = true)\n",
            "\n"
          ]
        }
      ]
    },
    {
      "cell_type": "code",
      "metadata": {
        "colab": {
          "base_uri": "https://localhost:8080/"
        },
        "id": "-hnC6wW4Km_b",
        "outputId": "fe542eb2-c4aa-492b-b579-6f064d5ff62d"
      },
      "source": [
        "type(books_df)"
      ],
      "execution_count": 6,
      "outputs": [
        {
          "output_type": "execute_result",
          "data": {
            "text/plain": [
              "pyspark.sql.dataframe.DataFrame"
            ]
          },
          "metadata": {},
          "execution_count": 6
        }
      ]
    },
    {
      "cell_type": "code",
      "metadata": {
        "colab": {
          "base_uri": "https://localhost:8080/"
        },
        "id": "OQP9QSRTKm_b",
        "outputId": "891e89b9-d362-4c69-e727-92d085de82da"
      },
      "source": [
        "len(books_df.columns)"
      ],
      "execution_count": 7,
      "outputs": [
        {
          "output_type": "execute_result",
          "data": {
            "text/plain": [
              "23"
            ]
          },
          "metadata": {},
          "execution_count": 7
        }
      ]
    },
    {
      "cell_type": "markdown",
      "metadata": {
        "id": "Xac4Hs7lKm_d"
      },
      "source": [
        "### Le nombre d'éléments"
      ]
    },
    {
      "cell_type": "code",
      "metadata": {
        "colab": {
          "base_uri": "https://localhost:8080/"
        },
        "id": "iSbjgy7mKm_d",
        "outputId": "17bd2105-029a-4744-d525-100236fa8e1e"
      },
      "source": [
        "books_df.count()"
      ],
      "execution_count": 8,
      "outputs": [
        {
          "output_type": "execute_result",
          "data": {
            "text/plain": [
              "10000"
            ]
          },
          "metadata": {},
          "execution_count": 8
        }
      ]
    },
    {
      "cell_type": "markdown",
      "metadata": {
        "id": "zh9mEwmYKm_d"
      },
      "source": [
        "### Le DataFrame rating_df"
      ]
    },
    {
      "cell_type": "code",
      "metadata": {
        "id": "w2o0qqe0Km_e"
      },
      "source": [
        "ratings_df = session.read.csv('ratings.csv', header=True, inferSchema=True) "
      ],
      "execution_count": 9,
      "outputs": []
    },
    {
      "cell_type": "code",
      "metadata": {
        "colab": {
          "base_uri": "https://localhost:8080/"
        },
        "id": "9IgLnrz8Km_e",
        "outputId": "8a1958b1-a59c-4cf8-89c6-52359af6d2b6"
      },
      "source": [
        "ratings_df.count()"
      ],
      "execution_count": 10,
      "outputs": [
        {
          "output_type": "execute_result",
          "data": {
            "text/plain": [
              "388533"
            ]
          },
          "metadata": {},
          "execution_count": 10
        }
      ]
    },
    {
      "cell_type": "code",
      "metadata": {
        "colab": {
          "base_uri": "https://localhost:8080/"
        },
        "id": "ff8c6GkjKm_g",
        "outputId": "919cd6ea-8213-46ec-bb43-89bd39dde810"
      },
      "source": [
        "ratings_df.printSchema()"
      ],
      "execution_count": 11,
      "outputs": [
        {
          "output_type": "stream",
          "name": "stdout",
          "text": [
            "root\n",
            " |-- book_id: integer (nullable = true)\n",
            " |-- user_id: integer (nullable = true)\n",
            " |-- rating: integer (nullable = true)\n",
            "\n"
          ]
        }
      ]
    },
    {
      "cell_type": "markdown",
      "metadata": {
        "id": "lMpClhmdKm_g"
      },
      "source": [
        "### La fonction show()  & head()"
      ]
    },
    {
      "cell_type": "code",
      "metadata": {
        "colab": {
          "base_uri": "https://localhost:8080/"
        },
        "id": "YETR6wNPKm_h",
        "outputId": "d197a76f-12b2-41f9-bbf2-d7ca056dfd27"
      },
      "source": [
        "ratings_df.show(5)"
      ],
      "execution_count": 12,
      "outputs": [
        {
          "output_type": "stream",
          "name": "stdout",
          "text": [
            "+-------+-------+------+\n",
            "|book_id|user_id|rating|\n",
            "+-------+-------+------+\n",
            "|      1|    314|     5|\n",
            "|      1|    439|     3|\n",
            "|      1|    588|     5|\n",
            "|      1|   1169|     4|\n",
            "|      1|   1185|     4|\n",
            "+-------+-------+------+\n",
            "only showing top 5 rows\n",
            "\n"
          ]
        }
      ]
    },
    {
      "cell_type": "code",
      "metadata": {
        "colab": {
          "base_uri": "https://localhost:8080/"
        },
        "id": "Onu3gX2hKm_h",
        "outputId": "15c5b169-29c1-4e53-f402-412b151062ef"
      },
      "source": [
        "ratings_df.head(5)"
      ],
      "execution_count": 13,
      "outputs": [
        {
          "output_type": "execute_result",
          "data": {
            "text/plain": [
              "[Row(book_id=1, user_id=314, rating=5),\n",
              " Row(book_id=1, user_id=439, rating=3),\n",
              " Row(book_id=1, user_id=588, rating=5),\n",
              " Row(book_id=1, user_id=1169, rating=4),\n",
              " Row(book_id=1, user_id=1185, rating=4)]"
            ]
          },
          "metadata": {},
          "execution_count": 13
        }
      ]
    },
    {
      "cell_type": "markdown",
      "metadata": {
        "id": "RJoLkKPpKm_h"
      },
      "source": [
        "### Créer un dataFrame From RDD"
      ]
    },
    {
      "cell_type": "code",
      "metadata": {
        "colab": {
          "base_uri": "https://localhost:8080/"
        },
        "id": "i3j5KEvGKm_i",
        "outputId": "5f4af6af-38d4-4459-c208-c60474ba698b"
      },
      "source": [
        "from pyspark.sql import Row\n",
        "\n",
        "sc=session.sparkContext\n",
        "\n",
        "# Chargement du fichier texte et conversion de chaque ligne en Row.\n",
        "lines = sc.textFile(\"HousePrice.csv\")\n",
        "lines = lines.filter(lambda line: \"city\" not in line  or \"price\" not in line)\n",
        "parts = lines.map(lambda l: l.split(\",\"))\n",
        "house = parts.map(lambda p: Row(ville=p[15], prix=float(p[1])))\n",
        "\n",
        "# Déduire le schéma et enregistrer le DataFrame comme une table.\n",
        "schemaHouse = session.createDataFrame(house)\n",
        "schemaHouse.show(10)"
      ],
      "execution_count": 16,
      "outputs": [
        {
          "output_type": "stream",
          "name": "stdout",
          "text": [
            "+------------+---------+\n",
            "|       ville|     prix|\n",
            "+------------+---------+\n",
            "|   Shoreline| 313000.0|\n",
            "|     Seattle|2384000.0|\n",
            "|        Kent| 342000.0|\n",
            "|    Bellevue| 420000.0|\n",
            "|     Redmond| 550000.0|\n",
            "|     Seattle| 490000.0|\n",
            "|     Redmond| 335000.0|\n",
            "|Maple Valley| 482000.0|\n",
            "|  North Bend| 452500.0|\n",
            "|     Seattle| 640000.0|\n",
            "+------------+---------+\n",
            "only showing top 10 rows\n",
            "\n"
          ]
        }
      ]
    },
    {
      "cell_type": "markdown",
      "metadata": {
        "id": "oQAHb9WxKm_i"
      },
      "source": [
        "### Afficher des statistiques sur les données "
      ]
    },
    {
      "cell_type": "code",
      "metadata": {
        "colab": {
          "base_uri": "https://localhost:8080/"
        },
        "id": "sVgKD9lGKm_i",
        "outputId": "85dd2a39-5b74-4a42-94b7-252078a4cb28"
      },
      "source": [
        "ratings_df.describe('rating').show()"
      ],
      "execution_count": 17,
      "outputs": [
        {
          "output_type": "stream",
          "name": "stdout",
          "text": [
            "+-------+------------------+\n",
            "|summary|            rating|\n",
            "+-------+------------------+\n",
            "|  count|            388532|\n",
            "|   mean| 3.839624535430801|\n",
            "| stddev|0.9981900693359621|\n",
            "|    min|                 1|\n",
            "|    max|                 5|\n",
            "+-------+------------------+\n",
            "\n"
          ]
        }
      ]
    },
    {
      "cell_type": "markdown",
      "metadata": {
        "id": "cUaJgbLSKm_j"
      },
      "source": [
        "### La projection sur un dataFrame avec select()"
      ]
    },
    {
      "cell_type": "code",
      "metadata": {
        "colab": {
          "base_uri": "https://localhost:8080/"
        },
        "id": "vBcsUcXQKm_j",
        "outputId": "bab9cc31-8967-426c-f9a4-e9cc80c9944f"
      },
      "source": [
        "ratings_df.select(\"book_id\",\"rating\").show(5)"
      ],
      "execution_count": 18,
      "outputs": [
        {
          "output_type": "stream",
          "name": "stdout",
          "text": [
            "+-------+------+\n",
            "|book_id|rating|\n",
            "+-------+------+\n",
            "|      1|     5|\n",
            "|      1|     3|\n",
            "|      1|     5|\n",
            "|      1|     4|\n",
            "|      1|     4|\n",
            "+-------+------+\n",
            "only showing top 5 rows\n",
            "\n"
          ]
        }
      ]
    },
    {
      "cell_type": "markdown",
      "metadata": {
        "id": "9Il0UiLKKm_j"
      },
      "source": [
        "### Filter les données d'un dataFrame"
      ]
    },
    {
      "cell_type": "code",
      "metadata": {
        "colab": {
          "base_uri": "https://localhost:8080/"
        },
        "id": "wlWK_AcKKm_k",
        "outputId": "8256543d-ef7a-45b4-dd33-6d7d23832727"
      },
      "source": [
        "ratings_df.filter(\"rating <= 3\").show(5)"
      ],
      "execution_count": 19,
      "outputs": [
        {
          "output_type": "stream",
          "name": "stdout",
          "text": [
            "+-------+-------+------+\n",
            "|book_id|user_id|rating|\n",
            "+-------+-------+------+\n",
            "|      1|    439|     3|\n",
            "|      1|   5461|     3|\n",
            "|      1|   7563|     3|\n",
            "|      1|   9246|     1|\n",
            "|      1|  20076|     3|\n",
            "+-------+-------+------+\n",
            "only showing top 5 rows\n",
            "\n"
          ]
        }
      ]
    },
    {
      "cell_type": "code",
      "metadata": {
        "colab": {
          "base_uri": "https://localhost:8080/"
        },
        "id": "eDQxo1quKm_k",
        "outputId": "6dce66b4-ab26-43b3-c650-fe4815fa7903"
      },
      "source": [
        "ratings_df.filter(\"rating <= 3 and book_id<10\").show(5)"
      ],
      "execution_count": 20,
      "outputs": [
        {
          "output_type": "stream",
          "name": "stdout",
          "text": [
            "+-------+-------+------+\n",
            "|book_id|user_id|rating|\n",
            "+-------+-------+------+\n",
            "|      1|    439|     3|\n",
            "|      1|   5461|     3|\n",
            "|      1|   7563|     3|\n",
            "|      1|   9246|     1|\n",
            "|      1|  20076|     3|\n",
            "+-------+-------+------+\n",
            "only showing top 5 rows\n",
            "\n"
          ]
        }
      ]
    },
    {
      "cell_type": "code",
      "metadata": {
        "colab": {
          "base_uri": "https://localhost:8080/"
        },
        "id": "DE_2RskyKm_k",
        "outputId": "4c198861-040d-4edf-baa5-5b4b8438ab24"
      },
      "source": [
        "ratings_df.select(\"book_id\",\"rating\").filter(\"rating <= 3\").show(5)"
      ],
      "execution_count": 21,
      "outputs": [
        {
          "output_type": "stream",
          "name": "stdout",
          "text": [
            "+-------+------+\n",
            "|book_id|rating|\n",
            "+-------+------+\n",
            "|      1|     3|\n",
            "|      1|     3|\n",
            "|      1|     3|\n",
            "|      1|     1|\n",
            "|      1|     3|\n",
            "+-------+------+\n",
            "only showing top 5 rows\n",
            "\n"
          ]
        }
      ]
    },
    {
      "cell_type": "markdown",
      "metadata": {
        "id": "7FGx7VnNKm_k"
      },
      "source": [
        "### Distinct()"
      ]
    },
    {
      "cell_type": "code",
      "metadata": {
        "colab": {
          "base_uri": "https://localhost:8080/"
        },
        "id": "qZotKMf4Km_k",
        "outputId": "44bfc509-1c59-4365-cb38-53c18059a7dc"
      },
      "source": [
        "ratings_df.select(\"user_id\").distinct().show(5)\n"
      ],
      "execution_count": 22,
      "outputs": [
        {
          "output_type": "stream",
          "name": "stdout",
          "text": [
            "+-------+\n",
            "|user_id|\n",
            "+-------+\n",
            "|  32592|\n",
            "|  19984|\n",
            "|  35982|\n",
            "|   1088|\n",
            "|   3918|\n",
            "+-------+\n",
            "only showing top 5 rows\n",
            "\n"
          ]
        }
      ]
    },
    {
      "cell_type": "markdown",
      "metadata": {
        "id": "C6H4LCZ-Km_l"
      },
      "source": [
        "### Le groupement d'un dataFrame"
      ]
    },
    {
      "cell_type": "code",
      "metadata": {
        "colab": {
          "base_uri": "https://localhost:8080/"
        },
        "id": "XhZUawZKKm_l",
        "outputId": "59335625-4d6c-4378-f1c4-cadd697daf7b"
      },
      "source": [
        "ratings_df.groupby(\"rating\").count().show()"
      ],
      "execution_count": 23,
      "outputs": [
        {
          "output_type": "stream",
          "name": "stdout",
          "text": [
            "+------+------+\n",
            "|rating| count|\n",
            "+------+------+\n",
            "|     1|  8642|\n",
            "|     3| 99425|\n",
            "|     5|115332|\n",
            "|     4|138987|\n",
            "|     2| 26146|\n",
            "|  null|     1|\n",
            "+------+------+\n",
            "\n"
          ]
        }
      ]
    },
    {
      "cell_type": "code",
      "metadata": {
        "colab": {
          "base_uri": "https://localhost:8080/"
        },
        "id": "vyJOfsxQKm_l",
        "outputId": "7a3273cd-ee47-43dc-d8bf-fd0190ae661d"
      },
      "source": [
        "ratings_df.groupby('book_id').avg('rating').show(5)"
      ],
      "execution_count": 24,
      "outputs": [
        {
          "output_type": "stream",
          "name": "stdout",
          "text": [
            "+-------+-----------+\n",
            "|book_id|avg(rating)|\n",
            "+-------+-----------+\n",
            "|    148|       3.57|\n",
            "|    463|       3.99|\n",
            "|    471|       3.84|\n",
            "|    496|       3.79|\n",
            "|    833|       3.44|\n",
            "+-------+-----------+\n",
            "only showing top 5 rows\n",
            "\n"
          ]
        }
      ]
    },
    {
      "cell_type": "markdown",
      "metadata": {
        "id": "tA-E_NJQKm_l"
      },
      "source": [
        "### Ordonner le résultats"
      ]
    },
    {
      "cell_type": "code",
      "metadata": {
        "id": "OR-mwPkNKm_m"
      },
      "source": [
        "ratings_df.orderBy(\"rating\").show(5)"
      ],
      "execution_count": null,
      "outputs": []
    },
    {
      "cell_type": "code",
      "metadata": {
        "id": "PVC-uA5ZKm_m"
      },
      "source": [
        "ratings_df.orderBy(ratings_df.rating.desc()).show(5)"
      ],
      "execution_count": null,
      "outputs": []
    },
    {
      "cell_type": "markdown",
      "metadata": {
        "id": "z95MajsbKm_m"
      },
      "source": [
        "### Jointure entre les dataFrames"
      ]
    },
    {
      "cell_type": "code",
      "metadata": {
        "colab": {
          "base_uri": "https://localhost:8080/"
        },
        "id": "x-_sciDHKm_m",
        "outputId": "e6d46740-d8e0-4053-a03a-9a2109069a2e"
      },
      "source": [
        "ratings_df.join(books_df, books_df.book_id == ratings_df.book_id)\\\n",
        "          .select(\"user_id\",\"title\",\"rating\").show(5)"
      ],
      "execution_count": 25,
      "outputs": [
        {
          "output_type": "stream",
          "name": "stdout",
          "text": [
            "+-------+--------------------+------+\n",
            "|user_id|               title|rating|\n",
            "+-------+--------------------+------+\n",
            "|    314|Harry Potter and ...|     5|\n",
            "|    439|Harry Potter and ...|     3|\n",
            "|    588|Harry Potter and ...|     5|\n",
            "|   1169|Harry Potter and ...|     4|\n",
            "|   1185|Harry Potter and ...|     4|\n",
            "+-------+--------------------+------+\n",
            "only showing top 5 rows\n",
            "\n"
          ]
        }
      ]
    },
    {
      "cell_type": "markdown",
      "metadata": {
        "id": "y43wekZLKm_n"
      },
      "source": [
        "### SQL natives avec createTempView()"
      ]
    },
    {
      "cell_type": "code",
      "metadata": {
        "colab": {
          "base_uri": "https://localhost:8080/"
        },
        "id": "j5ZsW2RLKm_n",
        "outputId": "02bb9cce-397f-4355-d4fe-497e0d62151c"
      },
      "source": [
        "ratings_df.createTempView(\"rating_table\")\n",
        "session.sql(\"SELECT * FROM rating_table ORDER BY book_id DESC\").show(5)"
      ],
      "execution_count": 26,
      "outputs": [
        {
          "output_type": "stream",
          "name": "stdout",
          "text": [
            "+-------+-------+------+\n",
            "|book_id|user_id|rating|\n",
            "+-------+-------+------+\n",
            "|   3891|   1376|     2|\n",
            "|   3891|   3891|     3|\n",
            "|   3891|   1551|     4|\n",
            "|   3891|   1886|     4|\n",
            "|   3891|   3644|     3|\n",
            "+-------+-------+------+\n",
            "only showing top 5 rows\n",
            "\n"
          ]
        }
      ]
    },
    {
      "cell_type": "markdown",
      "metadata": {
        "id": "rrBBNOhKKm_n"
      },
      "source": [
        "### Gestion des colonnes avec withColumn"
      ]
    },
    {
      "cell_type": "code",
      "metadata": {
        "colab": {
          "base_uri": "https://localhost:8080/"
        },
        "id": "FO7O9WCQKm_n",
        "outputId": "eea2963c-7c1a-44ce-95b2-5d9a4314eef1"
      },
      "source": [
        "ratings_df.withColumn(\"rating\", ratings_df.rating*10).show(5)"
      ],
      "execution_count": 27,
      "outputs": [
        {
          "output_type": "stream",
          "name": "stdout",
          "text": [
            "+-------+-------+------+\n",
            "|book_id|user_id|rating|\n",
            "+-------+-------+------+\n",
            "|      1|    314|    50|\n",
            "|      1|    439|    30|\n",
            "|      1|    588|    50|\n",
            "|      1|   1169|    40|\n",
            "|      1|   1185|    40|\n",
            "+-------+-------+------+\n",
            "only showing top 5 rows\n",
            "\n"
          ]
        }
      ]
    },
    {
      "cell_type": "code",
      "metadata": {
        "colab": {
          "base_uri": "https://localhost:8080/"
        },
        "id": "OStlfpusKm_n",
        "outputId": "f9fef2d8-5855-403f-9eef-218b9a12ee51"
      },
      "source": [
        "new_dataset = ratings_df.withColumn(\"rating_ten\", ratings_df.rating*10)\n",
        "new_dataset.show(5)"
      ],
      "execution_count": 28,
      "outputs": [
        {
          "output_type": "stream",
          "name": "stdout",
          "text": [
            "+-------+-------+------+----------+\n",
            "|book_id|user_id|rating|rating_ten|\n",
            "+-------+-------+------+----------+\n",
            "|      1|    314|     5|        50|\n",
            "|      1|    439|     3|        30|\n",
            "|      1|    588|     5|        50|\n",
            "|      1|   1169|     4|        40|\n",
            "|      1|   1185|     4|        40|\n",
            "+-------+-------+------+----------+\n",
            "only showing top 5 rows\n",
            "\n"
          ]
        }
      ]
    },
    {
      "cell_type": "markdown",
      "metadata": {
        "id": "_C3wdHNaKm_n"
      },
      "source": [
        "### Supprimer une Colonne"
      ]
    },
    {
      "cell_type": "code",
      "metadata": {
        "colab": {
          "base_uri": "https://localhost:8080/"
        },
        "id": "mqBapDPnKm_o",
        "outputId": "a98df067-7010-47ec-d743-d01324188c4b"
      },
      "source": [
        "ratings_df.drop('rating').show(5)"
      ],
      "execution_count": 29,
      "outputs": [
        {
          "output_type": "stream",
          "name": "stdout",
          "text": [
            "+-------+-------+\n",
            "|book_id|user_id|\n",
            "+-------+-------+\n",
            "|      1|    314|\n",
            "|      1|    439|\n",
            "|      1|    588|\n",
            "|      1|   1169|\n",
            "|      1|   1185|\n",
            "+-------+-------+\n",
            "only showing top 5 rows\n",
            "\n"
          ]
        }
      ]
    },
    {
      "cell_type": "code",
      "metadata": {
        "colab": {
          "base_uri": "https://localhost:8080/"
        },
        "id": "MUsgk9j5Km_o",
        "outputId": "ff9ceee9-b6a7-476a-f988-7cb463401332"
      },
      "source": [
        "ratings_df.show(5)"
      ],
      "execution_count": 30,
      "outputs": [
        {
          "output_type": "stream",
          "name": "stdout",
          "text": [
            "+-------+-------+------+\n",
            "|book_id|user_id|rating|\n",
            "+-------+-------+------+\n",
            "|      1|    314|     5|\n",
            "|      1|    439|     3|\n",
            "|      1|    588|     5|\n",
            "|      1|   1169|     4|\n",
            "|      1|   1185|     4|\n",
            "+-------+-------+------+\n",
            "only showing top 5 rows\n",
            "\n"
          ]
        }
      ]
    },
    {
      "cell_type": "markdown",
      "metadata": {
        "id": "LLX-ZuF8Km_o"
      },
      "source": [
        "### Gestion des doublants et les valeurs nulls"
      ]
    },
    {
      "cell_type": "code",
      "metadata": {
        "colab": {
          "base_uri": "https://localhost:8080/"
        },
        "id": "Y1_n1fIzKm_p",
        "outputId": "4c420b41-540b-4c68-c413-fbfa6ddb2370"
      },
      "source": [
        "ratings_df.count()"
      ],
      "execution_count": 31,
      "outputs": [
        {
          "output_type": "execute_result",
          "data": {
            "text/plain": [
              "388533"
            ]
          },
          "metadata": {},
          "execution_count": 31
        }
      ]
    },
    {
      "cell_type": "code",
      "metadata": {
        "colab": {
          "base_uri": "https://localhost:8080/"
        },
        "id": "sADiA-zBKm_p",
        "outputId": "6d6c2889-5ada-4323-dc0e-021f4ba6bed6"
      },
      "source": [
        "ratings_df.dropDuplicates().count()"
      ],
      "execution_count": 32,
      "outputs": [
        {
          "output_type": "execute_result",
          "data": {
            "text/plain": [
              "387967"
            ]
          },
          "metadata": {},
          "execution_count": 32
        }
      ]
    },
    {
      "cell_type": "code",
      "metadata": {
        "colab": {
          "base_uri": "https://localhost:8080/"
        },
        "id": "SAIdAGhMKm_q",
        "outputId": "783320ff-1e11-465d-887c-a0cc4e4fa711"
      },
      "source": [
        "ratings_df.dropna('any').count() # drop a row if it contains any nulls"
      ],
      "execution_count": 33,
      "outputs": [
        {
          "output_type": "execute_result",
          "data": {
            "text/plain": [
              "388532"
            ]
          },
          "metadata": {},
          "execution_count": 33
        }
      ]
    },
    {
      "cell_type": "code",
      "metadata": {
        "colab": {
          "base_uri": "https://localhost:8080/"
        },
        "id": "Y4IMwM7mKm_q",
        "outputId": "debf07d1-07da-41f8-dabd-ddcb248e784c"
      },
      "source": [
        "ratings_df.dropna('all').count() # drop a row if it contains any nulls"
      ],
      "execution_count": 34,
      "outputs": [
        {
          "output_type": "execute_result",
          "data": {
            "text/plain": [
              "388533"
            ]
          },
          "metadata": {},
          "execution_count": 34
        }
      ]
    },
    {
      "cell_type": "markdown",
      "metadata": {
        "id": "D2eMUOuiKm_q"
      },
      "source": [
        "### Conversion"
      ]
    },
    {
      "cell_type": "code",
      "metadata": {
        "colab": {
          "base_uri": "https://localhost:8080/",
          "height": 423
        },
        "id": "wncCA9phKm_q",
        "outputId": "423ede61-2e8e-467f-a594-a25f5e0499c2"
      },
      "source": [
        "ratings_df.toPandas()"
      ],
      "execution_count": 35,
      "outputs": [
        {
          "output_type": "execute_result",
          "data": {
            "text/html": [
              "<div>\n",
              "<style scoped>\n",
              "    .dataframe tbody tr th:only-of-type {\n",
              "        vertical-align: middle;\n",
              "    }\n",
              "\n",
              "    .dataframe tbody tr th {\n",
              "        vertical-align: top;\n",
              "    }\n",
              "\n",
              "    .dataframe thead th {\n",
              "        text-align: right;\n",
              "    }\n",
              "</style>\n",
              "<table border=\"1\" class=\"dataframe\">\n",
              "  <thead>\n",
              "    <tr style=\"text-align: right;\">\n",
              "      <th></th>\n",
              "      <th>book_id</th>\n",
              "      <th>user_id</th>\n",
              "      <th>rating</th>\n",
              "    </tr>\n",
              "  </thead>\n",
              "  <tbody>\n",
              "    <tr>\n",
              "      <th>0</th>\n",
              "      <td>1</td>\n",
              "      <td>314</td>\n",
              "      <td>5.0</td>\n",
              "    </tr>\n",
              "    <tr>\n",
              "      <th>1</th>\n",
              "      <td>1</td>\n",
              "      <td>439</td>\n",
              "      <td>3.0</td>\n",
              "    </tr>\n",
              "    <tr>\n",
              "      <th>2</th>\n",
              "      <td>1</td>\n",
              "      <td>588</td>\n",
              "      <td>5.0</td>\n",
              "    </tr>\n",
              "    <tr>\n",
              "      <th>3</th>\n",
              "      <td>1</td>\n",
              "      <td>1169</td>\n",
              "      <td>4.0</td>\n",
              "    </tr>\n",
              "    <tr>\n",
              "      <th>4</th>\n",
              "      <td>1</td>\n",
              "      <td>1185</td>\n",
              "      <td>4.0</td>\n",
              "    </tr>\n",
              "    <tr>\n",
              "      <th>...</th>\n",
              "      <td>...</td>\n",
              "      <td>...</td>\n",
              "      <td>...</td>\n",
              "    </tr>\n",
              "    <tr>\n",
              "      <th>388528</th>\n",
              "      <td>3891</td>\n",
              "      <td>19618</td>\n",
              "      <td>3.0</td>\n",
              "    </tr>\n",
              "    <tr>\n",
              "      <th>388529</th>\n",
              "      <td>3891</td>\n",
              "      <td>20512</td>\n",
              "      <td>4.0</td>\n",
              "    </tr>\n",
              "    <tr>\n",
              "      <th>388530</th>\n",
              "      <td>3891</td>\n",
              "      <td>20931</td>\n",
              "      <td>3.0</td>\n",
              "    </tr>\n",
              "    <tr>\n",
              "      <th>388531</th>\n",
              "      <td>3891</td>\n",
              "      <td>21946</td>\n",
              "      <td>2.0</td>\n",
              "    </tr>\n",
              "    <tr>\n",
              "      <th>388532</th>\n",
              "      <td>3891</td>\n",
              "      <td>2204</td>\n",
              "      <td>NaN</td>\n",
              "    </tr>\n",
              "  </tbody>\n",
              "</table>\n",
              "<p>388533 rows × 3 columns</p>\n",
              "</div>"
            ],
            "text/plain": [
              "        book_id  user_id  rating\n",
              "0             1      314     5.0\n",
              "1             1      439     3.0\n",
              "2             1      588     5.0\n",
              "3             1     1169     4.0\n",
              "4             1     1185     4.0\n",
              "...         ...      ...     ...\n",
              "388528     3891    19618     3.0\n",
              "388529     3891    20512     4.0\n",
              "388530     3891    20931     3.0\n",
              "388531     3891    21946     2.0\n",
              "388532     3891     2204     NaN\n",
              "\n",
              "[388533 rows x 3 columns]"
            ]
          },
          "metadata": {},
          "execution_count": 35
        }
      ]
    },
    {
      "cell_type": "code",
      "metadata": {
        "colab": {
          "base_uri": "https://localhost:8080/"
        },
        "id": "AdEMsvrmKm_r",
        "outputId": "905e8a90-cf20-4d12-e289-c401165c5886"
      },
      "source": [
        "rdd_convert = ratings_df.rdd\n",
        "rdd_convert.collect()"
      ],
      "execution_count": 36,
      "outputs": [
        {
          "output_type": "execute_result",
          "data": {
            "text/plain": [
              "[Row(book_id=1, user_id=314, rating=5),\n",
              " Row(book_id=1, user_id=439, rating=3),\n",
              " Row(book_id=1, user_id=588, rating=5),\n",
              " Row(book_id=1, user_id=1169, rating=4),\n",
              " Row(book_id=1, user_id=1185, rating=4),\n",
              " Row(book_id=1, user_id=2077, rating=4),\n",
              " Row(book_id=1, user_id=2487, rating=4),\n",
              " Row(book_id=1, user_id=2900, rating=5),\n",
              " Row(book_id=1, user_id=3662, rating=4),\n",
              " Row(book_id=1, user_id=3922, rating=5),\n",
              " Row(book_id=1, user_id=5379, rating=5),\n",
              " Row(book_id=1, user_id=5461, rating=3),\n",
              " Row(book_id=1, user_id=5885, rating=5),\n",
              " Row(book_id=1, user_id=6630, rating=5),\n",
              " Row(book_id=1, user_id=7563, rating=3),\n",
              " Row(book_id=1, user_id=9246, rating=1),\n",
              " Row(book_id=1, user_id=10140, rating=4),\n",
              " Row(book_id=1, user_id=10146, rating=5),\n",
              " Row(book_id=1, user_id=10246, rating=4),\n",
              " Row(book_id=1, user_id=10335, rating=4),\n",
              " Row(book_id=1, user_id=10610, rating=5),\n",
              " Row(book_id=1, user_id=10944, rating=5),\n",
              " Row(book_id=1, user_id=11854, rating=4),\n",
              " Row(book_id=1, user_id=11927, rating=4),\n",
              " Row(book_id=1, user_id=12471, rating=5),\n",
              " Row(book_id=1, user_id=13282, rating=5),\n",
              " Row(book_id=1, user_id=13544, rating=5),\n",
              " Row(book_id=1, user_id=15494, rating=5),\n",
              " Row(book_id=1, user_id=16377, rating=4),\n",
              " Row(book_id=1, user_id=16913, rating=5),\n",
              " Row(book_id=1, user_id=17434, rating=5),\n",
              " Row(book_id=1, user_id=17663, rating=5),\n",
              " Row(book_id=1, user_id=17984, rating=5),\n",
              " Row(book_id=1, user_id=18031, rating=5),\n",
              " Row(book_id=1, user_id=18313, rating=5),\n",
              " Row(book_id=1, user_id=18361, rating=4),\n",
              " Row(book_id=1, user_id=20076, rating=3),\n",
              " Row(book_id=1, user_id=20467, rating=3),\n",
              " Row(book_id=1, user_id=20848, rating=5),\n",
              " Row(book_id=1, user_id=21228, rating=5),\n",
              " Row(book_id=1, user_id=21487, rating=4),\n",
              " Row(book_id=1, user_id=21713, rating=5),\n",
              " Row(book_id=1, user_id=22602, rating=4),\n",
              " Row(book_id=1, user_id=23576, rating=4),\n",
              " Row(book_id=1, user_id=23612, rating=4),\n",
              " Row(book_id=1, user_id=24326, rating=5),\n",
              " Row(book_id=1, user_id=24389, rating=4),\n",
              " Row(book_id=1, user_id=24499, rating=5),\n",
              " Row(book_id=1, user_id=24834, rating=4),\n",
              " Row(book_id=1, user_id=24845, rating=5),\n",
              " Row(book_id=1, user_id=25164, rating=4),\n",
              " Row(book_id=1, user_id=25182, rating=5),\n",
              " Row(book_id=1, user_id=25214, rating=4),\n",
              " Row(book_id=1, user_id=26145, rating=4),\n",
              " Row(book_id=1, user_id=26629, rating=4),\n",
              " Row(book_id=1, user_id=26661, rating=4),\n",
              " Row(book_id=1, user_id=28158, rating=4),\n",
              " Row(book_id=1, user_id=28767, rating=5),\n",
              " Row(book_id=1, user_id=29123, rating=3),\n",
              " Row(book_id=1, user_id=29703, rating=5),\n",
              " Row(book_id=1, user_id=30681, rating=5),\n",
              " Row(book_id=1, user_id=31001, rating=4),\n",
              " Row(book_id=1, user_id=32055, rating=4),\n",
              " Row(book_id=1, user_id=32305, rating=5),\n",
              " Row(book_id=1, user_id=32592, rating=4),\n",
              " Row(book_id=1, user_id=32635, rating=5),\n",
              " Row(book_id=1, user_id=32748, rating=5),\n",
              " Row(book_id=1, user_id=32923, rating=5),\n",
              " Row(book_id=1, user_id=33065, rating=4),\n",
              " Row(book_id=1, user_id=33697, rating=4),\n",
              " Row(book_id=1, user_id=33716, rating=5),\n",
              " Row(book_id=1, user_id=33872, rating=5),\n",
              " Row(book_id=1, user_id=33890, rating=3),\n",
              " Row(book_id=1, user_id=37284, rating=5),\n",
              " Row(book_id=1, user_id=37834, rating=5),\n",
              " Row(book_id=1, user_id=38080, rating=4),\n",
              " Row(book_id=1, user_id=38082, rating=5),\n",
              " Row(book_id=1, user_id=38475, rating=4),\n",
              " Row(book_id=1, user_id=39423, rating=3),\n",
              " Row(book_id=1, user_id=41074, rating=3),\n",
              " Row(book_id=1, user_id=42404, rating=5),\n",
              " Row(book_id=1, user_id=43985, rating=4),\n",
              " Row(book_id=1, user_id=44243, rating=2),\n",
              " Row(book_id=1, user_id=44397, rating=5),\n",
              " Row(book_id=1, user_id=45269, rating=4),\n",
              " Row(book_id=1, user_id=45493, rating=5),\n",
              " Row(book_id=1, user_id=46977, rating=4),\n",
              " Row(book_id=1, user_id=47476, rating=4),\n",
              " Row(book_id=1, user_id=47746, rating=5),\n",
              " Row(book_id=1, user_id=47800, rating=5),\n",
              " Row(book_id=1, user_id=48482, rating=3),\n",
              " Row(book_id=1, user_id=49298, rating=4),\n",
              " Row(book_id=1, user_id=50104, rating=5),\n",
              " Row(book_id=1, user_id=50342, rating=3),\n",
              " Row(book_id=1, user_id=51166, rating=4),\n",
              " Row(book_id=1, user_id=51460, rating=3),\n",
              " Row(book_id=1, user_id=51480, rating=1),\n",
              " Row(book_id=1, user_id=51838, rating=5),\n",
              " Row(book_id=1, user_id=52036, rating=2),\n",
              " Row(book_id=1, user_id=53245, rating=4),\n",
              " Row(book_id=2, user_id=1169, rating=3),\n",
              " Row(book_id=2, user_id=3022, rating=4),\n",
              " Row(book_id=2, user_id=3922, rating=5),\n",
              " Row(book_id=2, user_id=5115, rating=4),\n",
              " Row(book_id=2, user_id=5436, rating=5),\n",
              " Row(book_id=2, user_id=5461, rating=4),\n",
              " Row(book_id=2, user_id=5885, rating=4),\n",
              " Row(book_id=2, user_id=6063, rating=1),\n",
              " Row(book_id=2, user_id=6342, rating=3),\n",
              " Row(book_id=2, user_id=6630, rating=5),\n",
              " Row(book_id=2, user_id=8167, rating=2),\n",
              " Row(book_id=2, user_id=9731, rating=4),\n",
              " Row(book_id=2, user_id=10111, rating=5),\n",
              " Row(book_id=2, user_id=10140, rating=3),\n",
              " Row(book_id=2, user_id=10288, rating=5),\n",
              " Row(book_id=2, user_id=10509, rating=2),\n",
              " Row(book_id=2, user_id=10610, rating=5),\n",
              " Row(book_id=2, user_id=10751, rating=3),\n",
              " Row(book_id=2, user_id=10944, rating=5),\n",
              " Row(book_id=2, user_id=11285, rating=4),\n",
              " Row(book_id=2, user_id=11408, rating=5),\n",
              " Row(book_id=2, user_id=11691, rating=4),\n",
              " Row(book_id=2, user_id=11692, rating=3),\n",
              " Row(book_id=2, user_id=11868, rating=5),\n",
              " Row(book_id=2, user_id=11927, rating=5),\n",
              " Row(book_id=2, user_id=11945, rating=5),\n",
              " Row(book_id=2, user_id=12874, rating=4),\n",
              " Row(book_id=2, user_id=12946, rating=5),\n",
              " Row(book_id=2, user_id=13282, rating=5),\n",
              " Row(book_id=2, user_id=13794, rating=1),\n",
              " Row(book_id=2, user_id=14372, rating=3),\n",
              " Row(book_id=2, user_id=14546, rating=5),\n",
              " Row(book_id=2, user_id=14603, rating=4),\n",
              " Row(book_id=2, user_id=15604, rating=4),\n",
              " Row(book_id=2, user_id=16913, rating=2),\n",
              " Row(book_id=2, user_id=17434, rating=5),\n",
              " Row(book_id=2, user_id=17566, rating=4),\n",
              " Row(book_id=2, user_id=17643, rating=1),\n",
              " Row(book_id=2, user_id=17663, rating=5),\n",
              " Row(book_id=2, user_id=17984, rating=5),\n",
              " Row(book_id=2, user_id=18313, rating=5),\n",
              " Row(book_id=2, user_id=18361, rating=4),\n",
              " Row(book_id=2, user_id=19526, rating=4),\n",
              " Row(book_id=2, user_id=19724, rating=5),\n",
              " Row(book_id=2, user_id=19729, rating=4),\n",
              " Row(book_id=2, user_id=19942, rating=5),\n",
              " Row(book_id=2, user_id=21217, rating=4),\n",
              " Row(book_id=2, user_id=21228, rating=4),\n",
              " Row(book_id=2, user_id=21487, rating=5),\n",
              " Row(book_id=2, user_id=21676, rating=5),\n",
              " Row(book_id=2, user_id=21733, rating=5),\n",
              " Row(book_id=2, user_id=22602, rating=4),\n",
              " Row(book_id=2, user_id=23576, rating=5),\n",
              " Row(book_id=2, user_id=23612, rating=5),\n",
              " Row(book_id=2, user_id=24499, rating=5),\n",
              " Row(book_id=2, user_id=24834, rating=4),\n",
              " Row(book_id=2, user_id=25164, rating=4),\n",
              " Row(book_id=2, user_id=25182, rating=5),\n",
              " Row(book_id=2, user_id=26145, rating=4),\n",
              " Row(book_id=2, user_id=26629, rating=4),\n",
              " Row(book_id=2, user_id=27499, rating=5),\n",
              " Row(book_id=2, user_id=28767, rating=4),\n",
              " Row(book_id=2, user_id=30313, rating=5),\n",
              " Row(book_id=2, user_id=30681, rating=4),\n",
              " Row(book_id=2, user_id=30944, rating=5),\n",
              " Row(book_id=2, user_id=32055, rating=4),\n",
              " Row(book_id=2, user_id=32305, rating=5),\n",
              " Row(book_id=2, user_id=32592, rating=4),\n",
              " Row(book_id=2, user_id=32635, rating=4),\n",
              " Row(book_id=2, user_id=32748, rating=5),\n",
              " Row(book_id=2, user_id=32918, rating=5),\n",
              " Row(book_id=2, user_id=33065, rating=5),\n",
              " Row(book_id=2, user_id=33697, rating=4),\n",
              " Row(book_id=2, user_id=33716, rating=5),\n",
              " Row(book_id=2, user_id=33872, rating=5),\n",
              " Row(book_id=2, user_id=36099, rating=5),\n",
              " Row(book_id=2, user_id=37834, rating=4),\n",
              " Row(book_id=2, user_id=38082, rating=5),\n",
              " Row(book_id=2, user_id=42404, rating=5),\n",
              " Row(book_id=2, user_id=42508, rating=4),\n",
              " Row(book_id=2, user_id=42810, rating=4),\n",
              " Row(book_id=2, user_id=45269, rating=4),\n",
              " Row(book_id=2, user_id=45493, rating=5),\n",
              " Row(book_id=2, user_id=46421, rating=5),\n",
              " Row(book_id=2, user_id=46977, rating=3),\n",
              " Row(book_id=2, user_id=47476, rating=3),\n",
              " Row(book_id=2, user_id=47478, rating=2),\n",
              " Row(book_id=2, user_id=47800, rating=5),\n",
              " Row(book_id=2, user_id=48482, rating=5),\n",
              " Row(book_id=2, user_id=48559, rating=5),\n",
              " Row(book_id=2, user_id=48687, rating=1),\n",
              " Row(book_id=2, user_id=49298, rating=5),\n",
              " Row(book_id=2, user_id=50096, rating=5),\n",
              " Row(book_id=2, user_id=50104, rating=5),\n",
              " Row(book_id=2, user_id=50133, rating=5),\n",
              " Row(book_id=2, user_id=51166, rating=5),\n",
              " Row(book_id=2, user_id=51460, rating=4),\n",
              " Row(book_id=2, user_id=51838, rating=4),\n",
              " Row(book_id=2, user_id=52036, rating=3),\n",
              " Row(book_id=2, user_id=53292, rating=5),\n",
              " Row(book_id=3, user_id=314, rating=3),\n",
              " Row(book_id=3, user_id=588, rating=1),\n",
              " Row(book_id=3, user_id=2077, rating=2),\n",
              " Row(book_id=3, user_id=2487, rating=3),\n",
              " Row(book_id=3, user_id=2900, rating=3),\n",
              " Row(book_id=3, user_id=3662, rating=4),\n",
              " Row(book_id=3, user_id=4536, rating=1),\n",
              " Row(book_id=3, user_id=5115, rating=4),\n",
              " Row(book_id=3, user_id=5272, rating=5),\n",
              " Row(book_id=3, user_id=5461, rating=2),\n",
              " Row(book_id=3, user_id=5885, rating=4),\n",
              " Row(book_id=3, user_id=6063, rating=5),\n",
              " Row(book_id=3, user_id=6630, rating=5),\n",
              " Row(book_id=3, user_id=6634, rating=3),\n",
              " Row(book_id=3, user_id=7001, rating=4),\n",
              " Row(book_id=3, user_id=9246, rating=1),\n",
              " Row(book_id=3, user_id=9731, rating=2),\n",
              " Row(book_id=3, user_id=9771, rating=3),\n",
              " Row(book_id=3, user_id=10140, rating=3),\n",
              " Row(book_id=3, user_id=10246, rating=1),\n",
              " Row(book_id=3, user_id=10249, rating=5),\n",
              " Row(book_id=3, user_id=10509, rating=1),\n",
              " Row(book_id=3, user_id=10610, rating=1),\n",
              " Row(book_id=3, user_id=10751, rating=1),\n",
              " Row(book_id=3, user_id=10944, rating=1),\n",
              " Row(book_id=3, user_id=11285, rating=2),\n",
              " Row(book_id=3, user_id=11408, rating=3),\n",
              " Row(book_id=3, user_id=11599, rating=4),\n",
              " Row(book_id=3, user_id=11854, rating=1),\n",
              " Row(book_id=3, user_id=11927, rating=4),\n",
              " Row(book_id=3, user_id=12471, rating=2),\n",
              " Row(book_id=3, user_id=12946, rating=4),\n",
              " Row(book_id=3, user_id=13274, rating=5),\n",
              " Row(book_id=3, user_id=13282, rating=5),\n",
              " Row(book_id=3, user_id=13794, rating=1),\n",
              " Row(book_id=3, user_id=14546, rating=5),\n",
              " Row(book_id=3, user_id=15604, rating=1),\n",
              " Row(book_id=3, user_id=16377, rating=1),\n",
              " Row(book_id=3, user_id=16569, rating=1),\n",
              " Row(book_id=3, user_id=16913, rating=4),\n",
              " Row(book_id=3, user_id=17434, rating=4),\n",
              " Row(book_id=3, user_id=17663, rating=4),\n",
              " Row(book_id=3, user_id=18031, rating=3),\n",
              " Row(book_id=3, user_id=18313, rating=5),\n",
              " Row(book_id=3, user_id=19724, rating=4),\n",
              " Row(book_id=3, user_id=19942, rating=4),\n",
              " Row(book_id=3, user_id=19984, rating=2),\n",
              " Row(book_id=3, user_id=20076, rating=3),\n",
              " Row(book_id=3, user_id=20782, rating=4),\n",
              " Row(book_id=3, user_id=20848, rating=4),\n",
              " Row(book_id=3, user_id=21228, rating=3),\n",
              " Row(book_id=3, user_id=21487, rating=3),\n",
              " Row(book_id=3, user_id=21733, rating=1),\n",
              " Row(book_id=3, user_id=22602, rating=3),\n",
              " Row(book_id=3, user_id=23576, rating=1),\n",
              " Row(book_id=3, user_id=23612, rating=3),\n",
              " Row(book_id=3, user_id=24326, rating=3),\n",
              " Row(book_id=3, user_id=24389, rating=3),\n",
              " Row(book_id=3, user_id=25182, rating=3),\n",
              " Row(book_id=3, user_id=25214, rating=1),\n",
              " Row(book_id=3, user_id=26398, rating=2),\n",
              " Row(book_id=3, user_id=26629, rating=4),\n",
              " Row(book_id=3, user_id=28767, rating=3),\n",
              " Row(book_id=3, user_id=29703, rating=1),\n",
              " Row(book_id=3, user_id=30681, rating=4),\n",
              " Row(book_id=3, user_id=32305, rating=1),\n",
              " Row(book_id=3, user_id=32592, rating=5),\n",
              " Row(book_id=3, user_id=32635, rating=4),\n",
              " Row(book_id=3, user_id=32918, rating=5),\n",
              " Row(book_id=3, user_id=33065, rating=1),\n",
              " Row(book_id=3, user_id=33716, rating=3),\n",
              " Row(book_id=3, user_id=36099, rating=4),\n",
              " Row(book_id=3, user_id=36240, rating=2),\n",
              " Row(book_id=3, user_id=37284, rating=1),\n",
              " Row(book_id=3, user_id=37834, rating=4),\n",
              " Row(book_id=3, user_id=37855, rating=3),\n",
              " Row(book_id=3, user_id=38080, rating=5),\n",
              " Row(book_id=3, user_id=38082, rating=3),\n",
              " Row(book_id=3, user_id=38475, rating=3),\n",
              " Row(book_id=3, user_id=42404, rating=5),\n",
              " Row(book_id=3, user_id=43602, rating=4),\n",
              " Row(book_id=3, user_id=43985, rating=2),\n",
              " Row(book_id=3, user_id=46977, rating=2),\n",
              " Row(book_id=3, user_id=47746, rating=5),\n",
              " Row(book_id=3, user_id=48482, rating=3),\n",
              " Row(book_id=3, user_id=48687, rating=1),\n",
              " Row(book_id=3, user_id=49288, rating=5),\n",
              " Row(book_id=3, user_id=49289, rating=5),\n",
              " Row(book_id=3, user_id=49295, rating=5),\n",
              " Row(book_id=3, user_id=49297, rating=5),\n",
              " Row(book_id=3, user_id=49298, rating=1),\n",
              " Row(book_id=3, user_id=50096, rating=5),\n",
              " Row(book_id=3, user_id=50101, rating=5),\n",
              " Row(book_id=3, user_id=50102, rating=5),\n",
              " Row(book_id=3, user_id=50104, rating=5),\n",
              " Row(book_id=3, user_id=50133, rating=5),\n",
              " Row(book_id=3, user_id=51166, rating=3),\n",
              " Row(book_id=3, user_id=51460, rating=2),\n",
              " Row(book_id=3, user_id=52036, rating=1),\n",
              " Row(book_id=3, user_id=53292, rating=5),\n",
              " Row(book_id=4, user_id=439, rating=5),\n",
              " Row(book_id=4, user_id=1169, rating=5),\n",
              " Row(book_id=4, user_id=2324, rating=5),\n",
              " Row(book_id=4, user_id=2487, rating=5),\n",
              " Row(book_id=4, user_id=3739, rating=5),\n",
              " Row(book_id=4, user_id=3922, rating=4),\n",
              " Row(book_id=4, user_id=4606, rating=1),\n",
              " Row(book_id=4, user_id=5115, rating=5),\n",
              " Row(book_id=4, user_id=5436, rating=5),\n",
              " Row(book_id=4, user_id=6342, rating=5),\n",
              " Row(book_id=4, user_id=6630, rating=4),\n",
              " Row(book_id=4, user_id=8167, rating=5),\n",
              " Row(book_id=4, user_id=8178, rating=5),\n",
              " Row(book_id=4, user_id=9246, rating=4),\n",
              " Row(book_id=4, user_id=10140, rating=4),\n",
              " Row(book_id=4, user_id=11285, rating=3),\n",
              " Row(book_id=4, user_id=11691, rating=5),\n",
              " Row(book_id=4, user_id=11692, rating=5),\n",
              " Row(book_id=4, user_id=11868, rating=3),\n",
              " Row(book_id=4, user_id=11945, rating=5),\n",
              " Row(book_id=4, user_id=12381, rating=5),\n",
              " Row(book_id=4, user_id=12874, rating=5),\n",
              " Row(book_id=4, user_id=12946, rating=5),\n",
              " Row(book_id=4, user_id=13034, rating=4),\n",
              " Row(book_id=4, user_id=13776, rating=4),\n",
              " Row(book_id=4, user_id=13794, rating=4),\n",
              " Row(book_id=4, user_id=14192, rating=4),\n",
              " Row(book_id=4, user_id=14207, rating=3),\n",
              " Row(book_id=4, user_id=14546, rating=5),\n",
              " Row(book_id=4, user_id=14603, rating=5),\n",
              " Row(book_id=4, user_id=15604, rating=3),\n",
              " Row(book_id=4, user_id=17228, rating=5),\n",
              " Row(book_id=4, user_id=17643, rating=5),\n",
              " Row(book_id=4, user_id=17663, rating=5),\n",
              " Row(book_id=4, user_id=17984, rating=5),\n",
              " Row(book_id=4, user_id=18031, rating=5),\n",
              " Row(book_id=4, user_id=18313, rating=5),\n",
              " Row(book_id=4, user_id=19526, rating=5),\n",
              " Row(book_id=4, user_id=19724, rating=5),\n",
              " Row(book_id=4, user_id=19729, rating=4),\n",
              " Row(book_id=4, user_id=20406, rating=2),\n",
              " Row(book_id=4, user_id=20467, rating=4),\n",
              " Row(book_id=4, user_id=21217, rating=4),\n",
              " Row(book_id=4, user_id=21228, rating=3),\n",
              " Row(book_id=4, user_id=21487, rating=5),\n",
              " Row(book_id=4, user_id=21676, rating=3),\n",
              " Row(book_id=4, user_id=21733, rating=5),\n",
              " Row(book_id=4, user_id=23576, rating=5),\n",
              " Row(book_id=4, user_id=24326, rating=5),\n",
              " Row(book_id=4, user_id=25164, rating=5),\n",
              " Row(book_id=4, user_id=25182, rating=5),\n",
              " Row(book_id=4, user_id=25840, rating=3),\n",
              " Row(book_id=4, user_id=26579, rating=3),\n",
              " Row(book_id=4, user_id=26629, rating=4),\n",
              " Row(book_id=4, user_id=26661, rating=5),\n",
              " Row(book_id=4, user_id=27499, rating=5),\n",
              " Row(book_id=4, user_id=27834, rating=5),\n",
              " Row(book_id=4, user_id=27934, rating=4),\n",
              " Row(book_id=4, user_id=28767, rating=5),\n",
              " Row(book_id=4, user_id=29123, rating=3),\n",
              " Row(book_id=4, user_id=29703, rating=5),\n",
              " Row(book_id=4, user_id=30283, rating=4),\n",
              " Row(book_id=4, user_id=30313, rating=5),\n",
              " Row(book_id=4, user_id=30681, rating=5),\n",
              " Row(book_id=4, user_id=30944, rating=5),\n",
              " Row(book_id=4, user_id=32305, rating=5),\n",
              " Row(book_id=4, user_id=32338, rating=4),\n",
              " Row(book_id=4, user_id=32592, rating=5),\n",
              " Row(book_id=4, user_id=32745, rating=4),\n",
              " Row(book_id=4, user_id=32748, rating=5),\n",
              " Row(book_id=4, user_id=32918, rating=5),\n",
              " Row(book_id=4, user_id=32923, rating=5),\n",
              " Row(book_id=4, user_id=33065, rating=5),\n",
              " Row(book_id=4, user_id=33697, rating=5),\n",
              " Row(book_id=4, user_id=33716, rating=4),\n",
              " Row(book_id=4, user_id=33872, rating=5),\n",
              " Row(book_id=4, user_id=34688, rating=4),\n",
              " Row(book_id=4, user_id=36099, rating=5),\n",
              " Row(book_id=4, user_id=37284, rating=3),\n",
              " Row(book_id=4, user_id=37834, rating=4),\n",
              " Row(book_id=4, user_id=39423, rating=5),\n",
              " Row(book_id=4, user_id=42404, rating=5),\n",
              " Row(book_id=4, user_id=43985, rating=5),\n",
              " Row(book_id=4, user_id=44243, rating=3),\n",
              " Row(book_id=4, user_id=44397, rating=5),\n",
              " Row(book_id=4, user_id=45269, rating=5),\n",
              " Row(book_id=4, user_id=46482, rating=5),\n",
              " Row(book_id=4, user_id=47411, rating=4),\n",
              " Row(book_id=4, user_id=47730, rating=5),\n",
              " Row(book_id=4, user_id=47800, rating=5),\n",
              " Row(book_id=4, user_id=48482, rating=3),\n",
              " Row(book_id=4, user_id=48559, rating=5),\n",
              " Row(book_id=4, user_id=48687, rating=5),\n",
              " Row(book_id=4, user_id=49298, rating=5),\n",
              " Row(book_id=4, user_id=50102, rating=5),\n",
              " Row(book_id=4, user_id=51460, rating=5),\n",
              " Row(book_id=4, user_id=51838, rating=4),\n",
              " Row(book_id=4, user_id=52036, rating=3),\n",
              " Row(book_id=4, user_id=53245, rating=5),\n",
              " Row(book_id=4, user_id=53292, rating=5),\n",
              " Row(book_id=5, user_id=314, rating=4),\n",
              " Row(book_id=5, user_id=1169, rating=5),\n",
              " Row(book_id=5, user_id=1952, rating=5),\n",
              " Row(book_id=5, user_id=2324, rating=5),\n",
              " Row(book_id=5, user_id=2487, rating=3),\n",
              " Row(book_id=5, user_id=2900, rating=5),\n",
              " Row(book_id=5, user_id=3022, rating=1),\n",
              " Row(book_id=5, user_id=3662, rating=4),\n",
              " Row(book_id=5, user_id=3739, rating=5),\n",
              " Row(book_id=5, user_id=3922, rating=2),\n",
              " Row(book_id=5, user_id=5115, rating=3),\n",
              " Row(book_id=5, user_id=5461, rating=5),\n",
              " Row(book_id=5, user_id=6342, rating=5),\n",
              " Row(book_id=5, user_id=6630, rating=3),\n",
              " Row(book_id=5, user_id=7001, rating=5),\n",
              " Row(book_id=5, user_id=8167, rating=4),\n",
              " Row(book_id=5, user_id=8370, rating=3),\n",
              " Row(book_id=5, user_id=9246, rating=3),\n",
              " Row(book_id=5, user_id=10111, rating=5),\n",
              " Row(book_id=5, user_id=10246, rating=4),\n",
              " Row(book_id=5, user_id=10402, rating=4),\n",
              " Row(book_id=5, user_id=10944, rating=3),\n",
              " Row(book_id=5, user_id=11691, rating=5),\n",
              " Row(book_id=5, user_id=11692, rating=4),\n",
              " Row(book_id=5, user_id=11868, rating=3),\n",
              " Row(book_id=5, user_id=11927, rating=5),\n",
              " Row(book_id=5, user_id=11945, rating=4),\n",
              " Row(book_id=5, user_id=12381, rating=4),\n",
              " Row(book_id=5, user_id=12476, rating=5),\n",
              " Row(book_id=5, user_id=12874, rating=4),\n",
              " Row(book_id=5, user_id=12946, rating=5),\n",
              " Row(book_id=5, user_id=13034, rating=4),\n",
              " Row(book_id=5, user_id=13776, rating=4),\n",
              " Row(book_id=5, user_id=13794, rating=2),\n",
              " Row(book_id=5, user_id=14546, rating=2),\n",
              " Row(book_id=5, user_id=14603, rating=4),\n",
              " Row(book_id=5, user_id=15547, rating=2),\n",
              " Row(book_id=5, user_id=17228, rating=5),\n",
              " Row(book_id=5, user_id=17643, rating=2),\n",
              " Row(book_id=5, user_id=17663, rating=5),\n",
              " Row(book_id=5, user_id=18031, rating=5),\n",
              " Row(book_id=5, user_id=18313, rating=2),\n",
              " Row(book_id=5, user_id=19526, rating=4),\n",
              " Row(book_id=5, user_id=19724, rating=5),\n",
              " Row(book_id=5, user_id=19729, rating=4),\n",
              " Row(book_id=5, user_id=20406, rating=5),\n",
              " Row(book_id=5, user_id=20467, rating=4),\n",
              " Row(book_id=5, user_id=21217, rating=4),\n",
              " Row(book_id=5, user_id=21228, rating=4),\n",
              " Row(book_id=5, user_id=21487, rating=5),\n",
              " Row(book_id=5, user_id=21676, rating=4),\n",
              " Row(book_id=5, user_id=21733, rating=4),\n",
              " Row(book_id=5, user_id=22602, rating=5),\n",
              " Row(book_id=5, user_id=23576, rating=5),\n",
              " Row(book_id=5, user_id=24499, rating=3),\n",
              " Row(book_id=5, user_id=25164, rating=4),\n",
              " Row(book_id=5, user_id=25182, rating=5),\n",
              " Row(book_id=5, user_id=25840, rating=3),\n",
              " Row(book_id=5, user_id=26629, rating=5),\n",
              " Row(book_id=5, user_id=26661, rating=5),\n",
              " Row(book_id=5, user_id=27499, rating=5),\n",
              " Row(book_id=5, user_id=27834, rating=4),\n",
              " Row(book_id=5, user_id=28158, rating=4),\n",
              " Row(book_id=5, user_id=28767, rating=2),\n",
              " Row(book_id=5, user_id=29703, rating=5),\n",
              " Row(book_id=5, user_id=29819, rating=2),\n",
              " Row(book_id=5, user_id=30681, rating=3),\n",
              " Row(book_id=5, user_id=30944, rating=4),\n",
              " Row(book_id=5, user_id=32338, rating=3),\n",
              " Row(book_id=5, user_id=32635, rating=3),\n",
              " Row(book_id=5, user_id=32748, rating=4),\n",
              " Row(book_id=5, user_id=32923, rating=5),\n",
              " Row(book_id=5, user_id=33065, rating=4),\n",
              " Row(book_id=5, user_id=33697, rating=5),\n",
              " Row(book_id=5, user_id=33716, rating=4),\n",
              " Row(book_id=5, user_id=33872, rating=4),\n",
              " Row(book_id=5, user_id=34688, rating=3),\n",
              " Row(book_id=5, user_id=36099, rating=3),\n",
              " Row(book_id=5, user_id=37284, rating=2),\n",
              " Row(book_id=5, user_id=38798, rating=2),\n",
              " Row(book_id=5, user_id=39423, rating=2),\n",
              " Row(book_id=5, user_id=41074, rating=3),\n",
              " Row(book_id=5, user_id=42404, rating=3),\n",
              " Row(book_id=5, user_id=44243, rating=2),\n",
              " Row(book_id=5, user_id=44397, rating=5),\n",
              " Row(book_id=5, user_id=45269, rating=4),\n",
              " Row(book_id=5, user_id=45493, rating=5),\n",
              " Row(book_id=5, user_id=45554, rating=5),\n",
              " Row(book_id=5, user_id=46139, rating=4),\n",
              " Row(book_id=5, user_id=46421, rating=5),\n",
              " Row(book_id=5, user_id=46482, rating=5),\n",
              " Row(book_id=5, user_id=47800, rating=3),\n",
              " Row(book_id=5, user_id=48559, rating=3),\n",
              " Row(book_id=5, user_id=48687, rating=5),\n",
              " Row(book_id=5, user_id=49298, rating=2),\n",
              " Row(book_id=5, user_id=50104, rating=5),\n",
              " Row(book_id=5, user_id=51166, rating=4),\n",
              " Row(book_id=5, user_id=51838, rating=4),\n",
              " Row(book_id=5, user_id=52036, rating=4),\n",
              " Row(book_id=5, user_id=53292, rating=5),\n",
              " Row(book_id=6, user_id=173, rating=5),\n",
              " Row(book_id=6, user_id=314, rating=5),\n",
              " Row(book_id=6, user_id=725, rating=5),\n",
              " Row(book_id=6, user_id=2077, rating=2),\n",
              " Row(book_id=6, user_id=2171, rating=5),\n",
              " Row(book_id=6, user_id=3662, rating=5),\n",
              " Row(book_id=6, user_id=5379, rating=5),\n",
              " Row(book_id=6, user_id=6016, rating=5),\n",
              " Row(book_id=6, user_id=8440, rating=4),\n",
              " Row(book_id=6, user_id=8612, rating=4),\n",
              " Row(book_id=6, user_id=9195, rating=3),\n",
              " Row(book_id=6, user_id=9246, rating=2),\n",
              " Row(book_id=6, user_id=9722, rating=5),\n",
              " Row(book_id=6, user_id=10727, rating=5),\n",
              " Row(book_id=6, user_id=11599, rating=4),\n",
              " Row(book_id=6, user_id=11691, rating=3),\n",
              " Row(book_id=6, user_id=11927, rating=5),\n",
              " Row(book_id=6, user_id=12476, rating=4),\n",
              " Row(book_id=6, user_id=13282, rating=5),\n",
              " Row(book_id=6, user_id=14222, rating=4),\n",
              " Row(book_id=6, user_id=14285, rating=4),\n",
              " Row(book_id=6, user_id=15318, rating=4),\n",
              " Row(book_id=6, user_id=16569, rating=5),\n",
              " Row(book_id=6, user_id=16913, rating=5),\n",
              " Row(book_id=6, user_id=17329, rating=5),\n",
              " Row(book_id=6, user_id=17405, rating=4),\n",
              " Row(book_id=6, user_id=17984, rating=4),\n",
              " Row(book_id=6, user_id=18031, rating=1),\n",
              " Row(book_id=6, user_id=18179, rating=1),\n",
              " Row(book_id=6, user_id=18199, rating=5),\n",
              " Row(book_id=6, user_id=18316, rating=5),\n",
              " Row(book_id=6, user_id=18361, rating=5),\n",
              " Row(book_id=6, user_id=18550, rating=4),\n",
              " Row(book_id=6, user_id=18798, rating=4),\n",
              " Row(book_id=6, user_id=18957, rating=5),\n",
              " Row(book_id=6, user_id=20076, rating=4),\n",
              " Row(book_id=6, user_id=20782, rating=4),\n",
              " Row(book_id=6, user_id=21228, rating=4),\n",
              " Row(book_id=6, user_id=22212, rating=4),\n",
              " Row(book_id=6, user_id=22534, rating=3),\n",
              " Row(book_id=6, user_id=24326, rating=5),\n",
              " Row(book_id=6, user_id=25030, rating=3),\n",
              " Row(book_id=6, user_id=26146, rating=3),\n",
              " Row(book_id=6, user_id=26244, rating=5),\n",
              " Row(book_id=6, user_id=26398, rating=4),\n",
              " Row(book_id=6, user_id=26942, rating=4),\n",
              " Row(book_id=6, user_id=28158, rating=3),\n",
              " Row(book_id=6, user_id=28831, rating=4),\n",
              " Row(book_id=6, user_id=29031, rating=4),\n",
              " Row(book_id=6, user_id=29644, rating=5),\n",
              " Row(book_id=6, user_id=29689, rating=3),\n",
              " Row(book_id=6, user_id=30601, rating=5),\n",
              " Row(book_id=6, user_id=30879, rating=5),\n",
              " Row(book_id=6, user_id=31001, rating=4),\n",
              " Row(book_id=6, user_id=31305, rating=4),\n",
              " Row(book_id=6, user_id=31760, rating=4),\n",
              " Row(book_id=6, user_id=32419, rating=4),\n",
              " Row(book_id=6, user_id=32635, rating=5),\n",
              " Row(book_id=6, user_id=32923, rating=4),\n",
              " Row(book_id=6, user_id=33119, rating=5),\n",
              " Row(book_id=6, user_id=33147, rating=5),\n",
              " Row(book_id=6, user_id=33207, rating=4),\n",
              " Row(book_id=6, user_id=33872, rating=2),\n",
              " Row(book_id=6, user_id=34531, rating=4),\n",
              " Row(book_id=6, user_id=35259, rating=2),\n",
              " Row(book_id=6, user_id=35982, rating=2),\n",
              " Row(book_id=6, user_id=36664, rating=3),\n",
              " Row(book_id=6, user_id=37035, rating=4),\n",
              " Row(book_id=6, user_id=37041, rating=3),\n",
              " Row(book_id=6, user_id=38687, rating=3),\n",
              " Row(book_id=6, user_id=38851, rating=5),\n",
              " Row(book_id=6, user_id=39720, rating=4),\n",
              " Row(book_id=6, user_id=40167, rating=3),\n",
              " Row(book_id=6, user_id=40251, rating=5),\n",
              " Row(book_id=6, user_id=40490, rating=3),\n",
              " Row(book_id=6, user_id=41318, rating=3),\n",
              " Row(book_id=6, user_id=43985, rating=4),\n",
              " Row(book_id=6, user_id=45493, rating=4),\n",
              " Row(book_id=6, user_id=47490, rating=5),\n",
              " Row(book_id=6, user_id=47746, rating=5),\n",
              " Row(book_id=6, user_id=48687, rating=5),\n",
              " Row(book_id=6, user_id=49138, rating=5),\n",
              " Row(book_id=6, user_id=49382, rating=5),\n",
              " Row(book_id=6, user_id=49830, rating=5),\n",
              " Row(book_id=6, user_id=50096, rating=5),\n",
              " Row(book_id=6, user_id=50101, rating=5),\n",
              " Row(book_id=6, user_id=50102, rating=5),\n",
              " Row(book_id=6, user_id=50104, rating=5),\n",
              " Row(book_id=6, user_id=50133, rating=5),\n",
              " Row(book_id=6, user_id=50610, rating=3),\n",
              " Row(book_id=6, user_id=51065, rating=5),\n",
              " Row(book_id=6, user_id=51166, rating=5),\n",
              " Row(book_id=6, user_id=51480, rating=2),\n",
              " Row(book_id=6, user_id=51762, rating=4),\n",
              " Row(book_id=6, user_id=52036, rating=2),\n",
              " Row(book_id=6, user_id=52469, rating=5),\n",
              " Row(book_id=6, user_id=52583, rating=5),\n",
              " Row(book_id=6, user_id=52740, rating=2),\n",
              " Row(book_id=6, user_id=53145, rating=5),\n",
              " Row(book_id=6, user_id=53292, rating=5),\n",
              " Row(book_id=7, user_id=439, rating=3),\n",
              " Row(book_id=7, user_id=951, rating=5),\n",
              " Row(book_id=7, user_id=2324, rating=5),\n",
              " Row(book_id=7, user_id=3022, rating=3),\n",
              " Row(book_id=7, user_id=3739, rating=5),\n",
              " Row(book_id=7, user_id=3922, rating=5),\n",
              " Row(book_id=7, user_id=4536, rating=3),\n",
              " Row(book_id=7, user_id=5115, rating=4),\n",
              " Row(book_id=7, user_id=5436, rating=5),\n",
              " Row(book_id=7, user_id=5461, rating=5),\n",
              " Row(book_id=7, user_id=5629, rating=3),\n",
              " Row(book_id=7, user_id=6063, rating=4),\n",
              " Row(book_id=7, user_id=6630, rating=5),\n",
              " Row(book_id=7, user_id=6634, rating=4),\n",
              " Row(book_id=7, user_id=7001, rating=3),\n",
              " Row(book_id=7, user_id=7563, rating=4),\n",
              " Row(book_id=7, user_id=8167, rating=3),\n",
              " Row(book_id=7, user_id=8484, rating=4),\n",
              " Row(book_id=7, user_id=10111, rating=4),\n",
              " Row(book_id=7, user_id=10140, rating=4),\n",
              " Row(book_id=7, user_id=10246, rating=4),\n",
              " Row(book_id=7, user_id=10249, rating=5),\n",
              " Row(book_id=7, user_id=10509, rating=2),\n",
              " Row(book_id=7, user_id=10610, rating=4),\n",
              " Row(book_id=7, user_id=10944, rating=5),\n",
              " Row(book_id=7, user_id=11285, rating=3),\n",
              " Row(book_id=7, user_id=11408, rating=2),\n",
              " Row(book_id=7, user_id=11691, rating=4),\n",
              " Row(book_id=7, user_id=11692, rating=4),\n",
              " Row(book_id=7, user_id=11854, rating=5),\n",
              " Row(book_id=7, user_id=11868, rating=1),\n",
              " Row(book_id=7, user_id=11927, rating=5),\n",
              " Row(book_id=7, user_id=12381, rating=5),\n",
              " Row(book_id=7, user_id=12455, rating=1),\n",
              " Row(book_id=7, user_id=12874, rating=4),\n",
              " Row(book_id=7, user_id=12946, rating=5),\n",
              " Row(book_id=7, user_id=13034, rating=4),\n",
              " Row(book_id=7, user_id=13282, rating=1),\n",
              " Row(book_id=7, user_id=13794, rating=3),\n",
              " Row(book_id=7, user_id=14192, rating=5),\n",
              " Row(book_id=7, user_id=14248, rating=5),\n",
              " Row(book_id=7, user_id=14546, rating=3),\n",
              " Row(book_id=7, user_id=15604, rating=3),\n",
              " Row(book_id=7, user_id=16569, rating=5),\n",
              " Row(book_id=7, user_id=16913, rating=3),\n",
              " Row(book_id=7, user_id=17566, rating=4),\n",
              " Row(book_id=7, user_id=17643, rating=3),\n",
              " Row(book_id=7, user_id=17663, rating=4),\n",
              " Row(book_id=7, user_id=18031, rating=5),\n",
              " Row(book_id=7, user_id=18313, rating=5),\n",
              " Row(book_id=7, user_id=18798, rating=3),\n",
              " Row(book_id=7, user_id=19526, rating=5),\n",
              " Row(book_id=7, user_id=19984, rating=5),\n",
              " Row(book_id=7, user_id=20406, rating=5),\n",
              " Row(book_id=7, user_id=20848, rating=5),\n",
              " Row(book_id=7, user_id=21217, rating=4),\n",
              " Row(book_id=7, user_id=21228, rating=5),\n",
              " Row(book_id=7, user_id=21487, rating=4),\n",
              " Row(book_id=7, user_id=21676, rating=5),\n",
              " Row(book_id=7, user_id=21733, rating=2),\n",
              " Row(book_id=7, user_id=22164, rating=4),\n",
              " Row(book_id=7, user_id=22602, rating=4),\n",
              " Row(book_id=7, user_id=23576, rating=1),\n",
              " Row(book_id=7, user_id=24499, rating=2),\n",
              " Row(book_id=7, user_id=24845, rating=5),\n",
              " Row(book_id=7, user_id=25840, rating=3),\n",
              " Row(book_id=7, user_id=26145, rating=4),\n",
              " Row(book_id=7, user_id=26629, rating=4),\n",
              " Row(book_id=7, user_id=26718, rating=4),\n",
              " Row(book_id=7, user_id=27499, rating=5),\n",
              " Row(book_id=7, user_id=28767, rating=2),\n",
              " Row(book_id=7, user_id=30944, rating=5),\n",
              " Row(book_id=7, user_id=31001, rating=5),\n",
              " Row(book_id=7, user_id=32055, rating=3),\n",
              " Row(book_id=7, user_id=32305, rating=5),\n",
              " Row(book_id=7, user_id=32592, rating=4),\n",
              " Row(book_id=7, user_id=32635, rating=4),\n",
              " Row(book_id=7, user_id=32748, rating=5),\n",
              " Row(book_id=7, user_id=33697, rating=4),\n",
              " Row(book_id=7, user_id=33872, rating=4),\n",
              " Row(book_id=7, user_id=36099, rating=5),\n",
              " Row(book_id=7, user_id=37284, rating=4),\n",
              " Row(book_id=7, user_id=37690, rating=4),\n",
              " Row(book_id=7, user_id=38798, rating=3),\n",
              " Row(book_id=7, user_id=38865, rating=5),\n",
              " Row(book_id=7, user_id=39423, rating=3),\n",
              " Row(book_id=7, user_id=40126, rating=4),\n",
              " Row(book_id=7, user_id=42508, rating=3),\n",
              " Row(book_id=7, user_id=42810, rating=4),\n",
              " Row(book_id=7, user_id=43622, rating=2),\n",
              " Row(book_id=7, user_id=45269, rating=4),\n",
              " Row(book_id=7, user_id=45493, rating=5),\n",
              " Row(book_id=7, user_id=46139, rating=5),\n",
              " Row(book_id=7, user_id=48482, rating=3),\n",
              " Row(book_id=7, user_id=48559, rating=5),\n",
              " Row(book_id=7, user_id=51460, rating=4),\n",
              " Row(book_id=7, user_id=51480, rating=1),\n",
              " Row(book_id=7, user_id=51838, rating=5),\n",
              " Row(book_id=7, user_id=52036, rating=5),\n",
              " Row(book_id=7, user_id=53292, rating=5),\n",
              " Row(book_id=8, user_id=588, rating=3),\n",
              " Row(book_id=8, user_id=1952, rating=4),\n",
              " Row(book_id=8, user_id=2276, rating=4),\n",
              " Row(book_id=8, user_id=2324, rating=5),\n",
              " Row(book_id=8, user_id=2900, rating=3),\n",
              " Row(book_id=8, user_id=3022, rating=1),\n",
              " Row(book_id=8, user_id=3922, rating=1),\n",
              " Row(book_id=8, user_id=4606, rating=2),\n",
              " Row(book_id=8, user_id=5461, rating=4),\n",
              " Row(book_id=8, user_id=6342, rating=5),\n",
              " Row(book_id=8, user_id=6630, rating=4),\n",
              " Row(book_id=8, user_id=7001, rating=5),\n",
              " Row(book_id=8, user_id=9246, rating=4),\n",
              " Row(book_id=8, user_id=9771, rating=5),\n",
              " Row(book_id=8, user_id=10140, rating=3),\n",
              " Row(book_id=8, user_id=10246, rating=5),\n",
              " Row(book_id=8, user_id=11285, rating=3),\n",
              " Row(book_id=8, user_id=11691, rating=5),\n",
              " Row(book_id=8, user_id=11868, rating=2),\n",
              " Row(book_id=8, user_id=11945, rating=5),\n",
              " Row(book_id=8, user_id=12381, rating=3),\n",
              " Row(book_id=8, user_id=12874, rating=4),\n",
              " Row(book_id=8, user_id=12946, rating=4),\n",
              " Row(book_id=8, user_id=13034, rating=4),\n",
              " Row(book_id=8, user_id=13776, rating=4),\n",
              " Row(book_id=8, user_id=13794, rating=2),\n",
              " Row(book_id=8, user_id=13991, rating=4),\n",
              " Row(book_id=8, user_id=14192, rating=4),\n",
              " Row(book_id=8, user_id=14207, rating=4),\n",
              " Row(book_id=8, user_id=14546, rating=2),\n",
              " Row(book_id=8, user_id=14603, rating=5),\n",
              " Row(book_id=8, user_id=17228, rating=4),\n",
              " Row(book_id=8, user_id=17434, rating=5),\n",
              " Row(book_id=8, user_id=17643, rating=1),\n",
              " Row(book_id=8, user_id=18313, rating=1),\n",
              " Row(book_id=8, user_id=19526, rating=4),\n",
              " Row(book_id=8, user_id=19724, rating=3),\n",
              " Row(book_id=8, user_id=19729, rating=5),\n",
              " Row(book_id=8, user_id=20076, rating=4),\n",
              " Row(book_id=8, user_id=20406, rating=2),\n",
              " Row(book_id=8, user_id=20782, rating=4),\n",
              " Row(book_id=8, user_id=20848, rating=5),\n",
              " Row(book_id=8, user_id=21217, rating=4),\n",
              " Row(book_id=8, user_id=21228, rating=4),\n",
              " Row(book_id=8, user_id=21487, rating=3),\n",
              " Row(book_id=8, user_id=21676, rating=3),\n",
              " Row(book_id=8, user_id=21733, rating=2),\n",
              " Row(book_id=8, user_id=22602, rating=3),\n",
              " Row(book_id=8, user_id=23576, rating=5),\n",
              " Row(book_id=8, user_id=24326, rating=5),\n",
              " Row(book_id=8, user_id=24499, rating=3),\n",
              " Row(book_id=8, user_id=25164, rating=4),\n",
              " Row(book_id=8, user_id=25182, rating=5),\n",
              " Row(book_id=8, user_id=25840, rating=2),\n",
              " Row(book_id=8, user_id=26145, rating=3),\n",
              " Row(book_id=8, user_id=26579, rating=3),\n",
              " Row(book_id=8, user_id=26661, rating=5),\n",
              " Row(book_id=8, user_id=27499, rating=3),\n",
              " Row(book_id=8, user_id=27834, rating=4),\n",
              " Row(book_id=8, user_id=28158, rating=3),\n",
              " Row(book_id=8, user_id=28767, rating=2),\n",
              " Row(book_id=8, user_id=30681, rating=4),\n",
              " Row(book_id=8, user_id=30944, rating=3),\n",
              " Row(book_id=8, user_id=32338, rating=3),\n",
              " Row(book_id=8, user_id=32592, rating=4),\n",
              " Row(book_id=8, user_id=32745, rating=4),\n",
              " Row(book_id=8, user_id=32748, rating=5),\n",
              " Row(book_id=8, user_id=32923, rating=5),\n",
              " Row(book_id=8, user_id=33065, rating=3),\n",
              " Row(book_id=8, user_id=33716, rating=4),\n",
              " Row(book_id=8, user_id=33872, rating=4),\n",
              " Row(book_id=8, user_id=36099, rating=4),\n",
              " Row(book_id=8, user_id=36695, rating=4),\n",
              " Row(book_id=8, user_id=37284, rating=5),\n",
              " Row(book_id=8, user_id=37834, rating=4),\n",
              " Row(book_id=8, user_id=38798, rating=4),\n",
              " Row(book_id=8, user_id=39423, rating=3),\n",
              " Row(book_id=8, user_id=42404, rating=2),\n",
              " Row(book_id=8, user_id=42574, rating=4),\n",
              " Row(book_id=8, user_id=42810, rating=3),\n",
              " Row(book_id=8, user_id=43985, rating=3),\n",
              " Row(book_id=8, user_id=45269, rating=5),\n",
              " Row(book_id=8, user_id=45554, rating=5),\n",
              " Row(book_id=8, user_id=46139, rating=3),\n",
              " Row(book_id=8, user_id=46482, rating=5),\n",
              " Row(book_id=8, user_id=47730, rating=5),\n",
              " Row(book_id=8, user_id=47800, rating=5),\n",
              " Row(book_id=8, user_id=48559, rating=4),\n",
              " Row(book_id=8, user_id=48687, rating=5),\n",
              " Row(book_id=8, user_id=49288, rating=5),\n",
              " Row(book_id=8, user_id=49289, rating=5),\n",
              " Row(book_id=8, user_id=49295, rating=5),\n",
              " Row(book_id=8, user_id=49297, rating=5),\n",
              " Row(book_id=8, user_id=50096, rating=5),\n",
              " Row(book_id=8, user_id=50101, rating=5),\n",
              " Row(book_id=8, user_id=50102, rating=5),\n",
              " Row(book_id=8, user_id=50104, rating=5),\n",
              " Row(book_id=8, user_id=50133, rating=5),\n",
              " Row(book_id=8, user_id=51838, rating=4),\n",
              " Row(book_id=8, user_id=53292, rating=5),\n",
              " Row(book_id=9, user_id=439, rating=3),\n",
              " Row(book_id=9, user_id=588, rating=3),\n",
              " Row(book_id=9, user_id=951, rating=1),\n",
              " Row(book_id=9, user_id=3087, rating=3),\n",
              " Row(book_id=9, user_id=3922, rating=3),\n",
              " Row(book_id=9, user_id=4536, rating=3),\n",
              " Row(book_id=9, user_id=5115, rating=3),\n",
              " Row(book_id=9, user_id=5436, rating=4),\n",
              " Row(book_id=9, user_id=5461, rating=4),\n",
              " Row(book_id=9, user_id=6063, rating=3),\n",
              " Row(book_id=9, user_id=6630, rating=4),\n",
              " Row(book_id=9, user_id=7001, rating=4),\n",
              " Row(book_id=9, user_id=7563, rating=1),\n",
              " Row(book_id=9, user_id=8484, rating=5),\n",
              " Row(book_id=9, user_id=9246, rating=4),\n",
              " Row(book_id=9, user_id=9731, rating=3),\n",
              " Row(book_id=9, user_id=10140, rating=2),\n",
              " Row(book_id=9, user_id=10509, rating=5),\n",
              " Row(book_id=9, user_id=10610, rating=3),\n",
              " Row(book_id=9, user_id=10944, rating=4),\n",
              " Row(book_id=9, user_id=11408, rating=1),\n",
              " Row(book_id=9, user_id=11445, rating=4),\n",
              " Row(book_id=9, user_id=11691, rating=3),\n",
              " Row(book_id=9, user_id=11692, rating=3),\n",
              " Row(book_id=9, user_id=11854, rating=1),\n",
              " Row(book_id=9, user_id=11945, rating=4),\n",
              " Row(book_id=9, user_id=11999, rating=3),\n",
              " Row(book_id=9, user_id=12466, rating=1),\n",
              " Row(book_id=9, user_id=12874, rating=5),\n",
              " Row(book_id=9, user_id=13034, rating=5),\n",
              " Row(book_id=9, user_id=13544, rating=3),\n",
              " Row(book_id=9, user_id=13794, rating=2),\n",
              " Row(book_id=9, user_id=13991, rating=4),\n",
              " Row(book_id=9, user_id=14248, rating=3),\n",
              " Row(book_id=9, user_id=14372, rating=2),\n",
              " Row(book_id=9, user_id=14936, rating=4),\n",
              " Row(book_id=9, user_id=15494, rating=3),\n",
              " Row(book_id=9, user_id=15604, rating=4),\n",
              " Row(book_id=9, user_id=16177, rating=2),\n",
              " Row(book_id=9, user_id=17566, rating=4),\n",
              " Row(book_id=9, user_id=17643, rating=3),\n",
              " Row(book_id=9, user_id=17984, rating=4),\n",
              " Row(book_id=9, user_id=18031, rating=3),\n",
              " Row(book_id=9, user_id=18313, rating=5),\n",
              " Row(book_id=9, user_id=18798, rating=2),\n",
              " Row(book_id=9, user_id=18857, rating=3),\n",
              " Row(book_id=9, user_id=19526, rating=3),\n",
              " Row(book_id=9, user_id=19724, rating=4),\n",
              " Row(book_id=9, user_id=21217, rating=4),\n",
              " Row(book_id=9, user_id=21228, rating=5),\n",
              " Row(book_id=9, user_id=21487, rating=3),\n",
              " Row(book_id=9, user_id=22164, rating=3),\n",
              " Row(book_id=9, user_id=23576, rating=2),\n",
              " Row(book_id=9, user_id=23612, rating=3),\n",
              " Row(book_id=9, user_id=24389, rating=4),\n",
              " Row(book_id=9, user_id=24499, rating=2),\n",
              " Row(book_id=9, user_id=24834, rating=5),\n",
              " Row(book_id=9, user_id=24845, rating=4),\n",
              " Row(book_id=9, user_id=25164, rating=3),\n",
              " Row(book_id=9, user_id=25214, rating=3),\n",
              " Row(book_id=9, user_id=26053, rating=2),\n",
              " Row(book_id=9, user_id=26398, rating=5),\n",
              " Row(book_id=9, user_id=26661, rating=3),\n",
              " Row(book_id=9, user_id=27834, rating=4),\n",
              " Row(book_id=9, user_id=28767, rating=3),\n",
              " Row(book_id=9, user_id=31001, rating=3),\n",
              " Row(book_id=9, user_id=32055, rating=5),\n",
              " Row(book_id=9, user_id=32592, rating=3),\n",
              " Row(book_id=9, user_id=32748, rating=5),\n",
              " Row(book_id=9, user_id=32918, rating=5),\n",
              " Row(book_id=9, user_id=32923, rating=3),\n",
              " Row(book_id=9, user_id=33697, rating=2),\n",
              " Row(book_id=9, user_id=33716, rating=3),\n",
              " Row(book_id=9, user_id=36099, rating=4),\n",
              " Row(book_id=9, user_id=36695, rating=4),\n",
              " Row(book_id=9, user_id=37284, rating=4),\n",
              " Row(book_id=9, user_id=37834, rating=3),\n",
              " Row(book_id=9, user_id=38080, rating=1),\n",
              " Row(book_id=9, user_id=38082, rating=5),\n",
              " Row(book_id=9, user_id=38798, rating=3),\n",
              " Row(book_id=9, user_id=38865, rating=3),\n",
              " Row(book_id=9, user_id=41074, rating=3),\n",
              " Row(book_id=9, user_id=42508, rating=3),\n",
              " Row(book_id=9, user_id=43602, rating=4),\n",
              " Row(book_id=9, user_id=43622, rating=3),\n",
              " Row(book_id=9, user_id=43985, rating=3),\n",
              " Row(book_id=9, user_id=44243, rating=4),\n",
              " Row(book_id=9, user_id=44397, rating=5),\n",
              " Row(book_id=9, user_id=46139, rating=5),\n",
              " Row(book_id=9, user_id=46977, rating=2),\n",
              " Row(book_id=9, user_id=47730, rating=5),\n",
              " Row(book_id=9, user_id=48482, rating=3),\n",
              " Row(book_id=9, user_id=49298, rating=2),\n",
              " Row(book_id=9, user_id=50104, rating=5),\n",
              " Row(book_id=9, user_id=50342, rating=3),\n",
              " Row(book_id=9, user_id=51166, rating=4),\n",
              " Row(book_id=9, user_id=51460, rating=4),\n",
              " Row(book_id=9, user_id=51480, rating=1),\n",
              " Row(book_id=9, user_id=51838, rating=4),\n",
              " Row(book_id=9, user_id=53293, rating=5),\n",
              " Row(book_id=10, user_id=3662, rating=4),\n",
              " Row(book_id=10, user_id=3922, rating=5),\n",
              " Row(book_id=10, user_id=4536, rating=2),\n",
              " Row(book_id=10, user_id=5115, rating=4),\n",
              " Row(book_id=10, user_id=5272, rating=3),\n",
              " Row(book_id=10, user_id=5461, rating=3),\n",
              " Row(book_id=10, user_id=6063, rating=1),\n",
              " Row(book_id=10, user_id=6630, rating=3),\n",
              " Row(book_id=10, user_id=7001, rating=4),\n",
              " Row(book_id=10, user_id=8167, rating=3),\n",
              " Row(book_id=10, user_id=9246, rating=2),\n",
              " Row(book_id=10, user_id=9731, rating=3),\n",
              " Row(book_id=10, user_id=10111, rating=5),\n",
              " Row(book_id=10, user_id=10249, rating=4),\n",
              " Row(book_id=10, user_id=10509, rating=2),\n",
              " Row(book_id=10, user_id=10610, rating=5),\n",
              " Row(book_id=10, user_id=10944, rating=4),\n",
              " Row(book_id=10, user_id=11285, rating=5),\n",
              " Row(book_id=10, user_id=11692, rating=5),\n",
              " Row(book_id=10, user_id=11854, rating=4),\n",
              " Row(book_id=10, user_id=11868, rating=5),\n",
              " Row(book_id=10, user_id=11927, rating=5),\n",
              " Row(book_id=10, user_id=12381, rating=5),\n",
              " Row(book_id=10, user_id=12455, rating=3),\n",
              " Row(book_id=10, user_id=12471, rating=5),\n",
              " Row(book_id=10, user_id=12874, rating=4),\n",
              " Row(book_id=10, user_id=12946, rating=5),\n",
              " Row(book_id=10, user_id=13034, rating=5),\n",
              " Row(book_id=10, user_id=13282, rating=5),\n",
              " Row(book_id=10, user_id=13776, rating=4),\n",
              " Row(book_id=10, user_id=13794, rating=4),\n",
              " Row(book_id=10, user_id=13991, rating=4),\n",
              " Row(book_id=10, user_id=14192, rating=4),\n",
              " Row(book_id=10, user_id=14248, rating=5),\n",
              " Row(book_id=10, user_id=15547, rating=3),\n",
              " Row(book_id=10, user_id=15604, rating=3),\n",
              " Row(book_id=10, user_id=17228, rating=5),\n",
              " Row(book_id=10, user_id=17434, rating=4),\n",
              " Row(book_id=10, user_id=17643, rating=1),\n",
              " Row(book_id=10, user_id=17663, rating=4),\n",
              " Row(book_id=10, user_id=17984, rating=5),\n",
              " Row(book_id=10, user_id=18313, rating=5),\n",
              " Row(book_id=10, user_id=19526, rating=4),\n",
              " Row(book_id=10, user_id=19724, rating=5),\n",
              " Row(book_id=10, user_id=19942, rating=5),\n",
              " Row(book_id=10, user_id=20076, rating=3),\n",
              " Row(book_id=10, user_id=20406, rating=4),\n",
              " Row(book_id=10, user_id=20967, rating=4),\n",
              " Row(book_id=10, user_id=21217, rating=3),\n",
              " Row(book_id=10, user_id=21228, rating=4),\n",
              " Row(book_id=10, user_id=21487, rating=5),\n",
              " Row(book_id=10, user_id=21676, rating=5),\n",
              " Row(book_id=10, user_id=21733, rating=4),\n",
              " Row(book_id=10, user_id=22164, rating=5),\n",
              " Row(book_id=10, user_id=23576, rating=4),\n",
              " Row(book_id=10, user_id=23612, rating=4),\n",
              " Row(book_id=10, user_id=24326, rating=5),\n",
              " Row(book_id=10, user_id=24499, rating=4),\n",
              " Row(book_id=10, user_id=25164, rating=4),\n",
              " Row(book_id=10, user_id=25182, rating=5),\n",
              " Row(book_id=10, user_id=25840, rating=5),\n",
              " Row(book_id=10, user_id=26145, rating=4),\n",
              " Row(book_id=10, user_id=26661, rating=4),\n",
              " Row(book_id=10, user_id=26718, rating=5),\n",
              " Row(book_id=10, user_id=27834, rating=5),\n",
              " Row(book_id=10, user_id=27934, rating=5),\n",
              " Row(book_id=10, user_id=28767, rating=5),\n",
              " Row(book_id=10, user_id=28824, rating=4),\n",
              " Row(book_id=10, user_id=29703, rating=4),\n",
              " Row(book_id=10, user_id=30283, rating=4),\n",
              " Row(book_id=10, user_id=30681, rating=4),\n",
              " Row(book_id=10, user_id=32338, rating=3),\n",
              " Row(book_id=10, user_id=32635, rating=4),\n",
              " Row(book_id=10, user_id=32748, rating=4),\n",
              " Row(book_id=10, user_id=33065, rating=5),\n",
              " Row(book_id=10, user_id=36099, rating=5),\n",
              " Row(book_id=10, user_id=39423, rating=3),\n",
              " Row(book_id=10, user_id=41074, rating=3),\n",
              " Row(book_id=10, user_id=42404, rating=5),\n",
              " Row(book_id=10, user_id=42574, rating=4),\n",
              " Row(book_id=10, user_id=44397, rating=5),\n",
              " Row(book_id=10, user_id=46482, rating=5),\n",
              " Row(book_id=10, user_id=47411, rating=2),\n",
              " Row(book_id=10, user_id=47730, rating=5),\n",
              " Row(book_id=10, user_id=47800, rating=5),\n",
              " Row(book_id=10, user_id=48559, rating=4),\n",
              " Row(book_id=10, user_id=48687, rating=5),\n",
              " Row(book_id=10, user_id=49288, rating=5),\n",
              " Row(book_id=10, user_id=49289, rating=5),\n",
              " Row(book_id=10, user_id=49295, rating=5),\n",
              " Row(book_id=10, user_id=49297, rating=5),\n",
              " Row(book_id=10, user_id=50096, rating=5),\n",
              " Row(book_id=10, user_id=50101, rating=5),\n",
              " Row(book_id=10, user_id=50102, rating=5),\n",
              " Row(book_id=10, user_id=50133, rating=5),\n",
              " Row(book_id=10, user_id=50999, rating=5),\n",
              " Row(book_id=10, user_id=51166, rating=3),\n",
              " Row(book_id=10, user_id=51838, rating=4),\n",
              " Row(book_id=10, user_id=52036, rating=4),\n",
              " Row(book_id=10, user_id=53292, rating=5),\n",
              " ...]"
            ]
          },
          "metadata": {},
          "execution_count": 36
        }
      ]
    }
  ]
}