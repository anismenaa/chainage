{
  "nbformat": 4,
  "nbformat_minor": 0,
  "metadata": {
    "kernelspec": {
      "display_name": "Python 3 (ipykernel)",
      "language": "python",
      "name": "python3"
    },
    "language_info": {
      "codemirror_mode": {
        "name": "ipython",
        "version": 3
      },
      "file_extension": ".py",
      "mimetype": "text/x-python",
      "name": "python",
      "nbconvert_exporter": "python",
      "pygments_lexer": "ipython3",
      "version": "3.8.7"
    },
    "colab": {
      "name": "Colab_Esi_sba_Ex2_AVG_HousePrice_By_City.ipynb",
      "provenance": [],
      "include_colab_link": true
    }
  },
  "cells": [
    {
      "cell_type": "markdown",
      "metadata": {
        "id": "view-in-github",
        "colab_type": "text"
      },
      "source": [
        "<a href=\"https://colab.research.google.com/github/anismenaa/chainage/blob/main/Colab_Esi_sba_Ex2_AVG_HousePrice_By_City.ipynb\" target=\"_parent\"><img src=\"https://colab.research.google.com/assets/colab-badge.svg\" alt=\"Open In Colab\"/></a>"
      ]
    },
    {
      "cell_type": "markdown",
      "metadata": {
        "id": "9HplVZTiBqKc"
      },
      "source": [
        "## Installation de spark-cluster & findspark, pyspark "
      ]
    },
    {
      "cell_type": "code",
      "metadata": {
        "colab": {
          "base_uri": "https://localhost:8080/"
        },
        "id": "Yh-xp7sSBqKj",
        "outputId": "fb451b06-a104-43f5-b042-4ca39208ba9b"
      },
      "source": [
        "# innstall java\n",
        "!apt-get install openjdk-8-jdk-headless -qq > /dev/null\n",
        "\n",
        "# install spark (change the version number if needed)\n",
        "!wget -q https://dlcdn.apache.org/spark/spark-3.2.0/spark-3.2.0-bin-hadoop2.7.tgz\n",
        "\n",
        "# unzip the spark file to the current folder\n",
        "!tar xf spark-3.2.0-bin-hadoop2.7.tgz\n",
        "\n",
        "# set your spark folder to your system path environment. \n",
        "import os\n",
        "os.environ[\"JAVA_HOME\"] = \"/usr/lib/jvm/java-8-openjdk-amd64\"\n",
        "os.environ[\"SPARK_HOME\"] = \"/content/spark-3.2.0-bin-hadoop2.7\"\n",
        "\n",
        "\n",
        "# install findspark using pip\n",
        "!pip install -q findspark\n",
        "\n",
        "# install pyspark\n",
        "!pip install pyspark"
      ],
      "execution_count": 1,
      "outputs": [
        {
          "output_type": "stream",
          "name": "stdout",
          "text": [
            "Collecting pyspark\n",
            "  Downloading pyspark-3.2.0.tar.gz (281.3 MB)\n",
            "\u001b[K     |████████████████████████████████| 281.3 MB 39 kB/s \n",
            "\u001b[?25hCollecting py4j==0.10.9.2\n",
            "  Downloading py4j-0.10.9.2-py2.py3-none-any.whl (198 kB)\n",
            "\u001b[K     |████████████████████████████████| 198 kB 56.7 MB/s \n",
            "\u001b[?25hBuilding wheels for collected packages: pyspark\n",
            "  Building wheel for pyspark (setup.py) ... \u001b[?25l\u001b[?25hdone\n",
            "  Created wheel for pyspark: filename=pyspark-3.2.0-py2.py3-none-any.whl size=281805912 sha256=6dee7f24af93d29ad65e9e9e48ba773e656413963c105c38da56b7142b63d38e\n",
            "  Stored in directory: /root/.cache/pip/wheels/0b/de/d2/9be5d59d7331c6c2a7c1b6d1a4f463ce107332b1ecd4e80718\n",
            "Successfully built pyspark\n",
            "Installing collected packages: py4j, pyspark\n",
            "Successfully installed py4j-0.10.9.2 pyspark-3.2.0\n"
          ]
        }
      ]
    },
    {
      "cell_type": "code",
      "metadata": {
        "id": "TSpX3ypUBqKl"
      },
      "source": [
        "import findspark \n",
        "findspark.init()\n",
        "from pyspark import SparkContext, SparkConf\n",
        "conf = SparkConf().setAppName(\"actions\").setMaster(\"local[4]\")\n",
        "sc = SparkContext(conf = conf)"
      ],
      "execution_count": 2,
      "outputs": []
    },
    {
      "cell_type": "code",
      "metadata": {
        "colab": {
          "base_uri": "https://localhost:8080/"
        },
        "id": "cSyUpV3aBqKm",
        "outputId": "0b8c712c-3f06-48eb-9197-7dd09272f296"
      },
      "source": [
        "#Charger le dataset HousePrice.csv\n",
        "\n",
        "lines = sc.textFile(\"HousePrice.csv\")\n",
        "#nettoyer le dataset en supprimant ceux qui n'ont pas une city ou un price\n",
        "cleanedLines = lines.filter(lambda line : \"city\" not in line or \"price\" not in line)\n",
        "cleanedLines.take(2)\n",
        "\n"
      ],
      "execution_count": 4,
      "outputs": [
        {
          "output_type": "execute_result",
          "data": {
            "text/plain": [
              "['2014-05-02 00:00:00,313000.0,3.0,1.5,1340,7912,1.5,0,0,3,1340,0,1955,2005,18810 Densmore Ave N,Shoreline,WA 98133,USA',\n",
              " '2014-05-02 00:00:00,2384000.0,5.0,2.5,3650,9050,2.0,0,4,5,3370,280,1921,0,709 W Blaine St,Seattle,WA 98119,USA']"
            ]
          },
          "metadata": {},
          "execution_count": 4
        }
      ]
    },
    {
      "cell_type": "code",
      "metadata": {
        "id": "z07_BOMhBqKm"
      },
      "source": [
        "# récupérer le price(position 1) et la city (position 15)\n",
        "\n",
        "City_Price_Rdd=cleanedLines.map(lambda line : (line.split(\",\")[15], float(line.split(\",\")[1])))\n",
        "City_HouseNB_Rdd = cleanedLines.map(lambda line : (line.split(\",\")[15], 1))"
      ],
      "execution_count": 7,
      "outputs": []
    },
    {
      "cell_type": "code",
      "metadata": {
        "colab": {
          "base_uri": "https://localhost:8080/"
        },
        "id": "MPaa6ihvBqKn",
        "outputId": "a885c930-075c-4c11-da79-e8cfff4c24d8"
      },
      "source": [
        "# calculer le prix moyen pour chaque city\n",
        "city_Price_Total_Rdd=City_Price_Rdd.reduceByKey(lambda x,y : x+y)\n",
        "City_HouseNB_Total_Rdd = City_HouseNB_Rdd.reduceByKey(lambda x,y : x+y)\n",
        "AVG = city_Price_Total_Rdd.union(City_HouseNB_Total_Rdd).reduceByKey(lambda x,y :x/y)\n",
        "AVG.collect()"
      ],
      "execution_count": 8,
      "outputs": [
        {
          "output_type": "execute_result",
          "data": {
            "text/plain": [
              "[('Seattle', 579837.4672823235),\n",
              " ('Redmond', 667649.5347812298),\n",
              " ('Maple Valley', 336474.9118055521),\n",
              " ('North Bend', 399565.70666666003),\n",
              " ('Sammamish', 686917.5835323657),\n",
              " ('Auburn', 299340.44276556815),\n",
              " ('Bothell', 481441.8939393939),\n",
              " ('Federal Way', 289887.70398969593),\n",
              " ('Kirkland', 651583.5919080963),\n",
              " ('Woodinville', 609565.0217391305),\n",
              " ('Normandy Park', 506793.05555555556),\n",
              " ('Renton', 377040.96632902045),\n",
              " ('Duvall', 403994.12698411907),\n",
              " ('Kenmore', 447494.0404040303),\n",
              " ('Mercer Island', 1123817.6201550348),\n",
              " ('Black Diamond', 339605.55555555556),\n",
              " ('Ravensdale', 514071.4285714286),\n",
              " ('Algona', 207288.0),\n",
              " ('Tukwila', 308290.0689655172),\n",
              " ('Vashon', 472556.8965517241),\n",
              " ('Yarrow Point', 1194837.5),\n",
              " ('SeaTac', 245290.62068965516),\n",
              " ('Medina', 2046559.0909090908),\n",
              " ('Enumclaw', 307614.58333332144),\n",
              " ('Pacific', 225233.33333333334),\n",
              " ('Preston', 562450.0),\n",
              " ('Shoreline', 420392.3640469756),\n",
              " ('Kent', 439492.44464821625),\n",
              " ('Bellevue', 847180.6629953358),\n",
              " ('Lake Forest Park', 448475.0),\n",
              " ('Des Moines', 304992.54679803445),\n",
              " ('Issaquah', 596163.7474747486),\n",
              " ('Fall City', 692681.8181818182),\n",
              " ('Carnation', 508751.95454545453),\n",
              " ('Snoqualmie', 536305.2957746478),\n",
              " ('Burien', 348947.2484985),\n",
              " ('Covington', 296230.39867109305),\n",
              " ('Inglewood-Finn Hill', 425000.0),\n",
              " ('Newcastle', 666046.696969697),\n",
              " ('Clyde Hill', 1321945.4545454546),\n",
              " ('Skykomish', 233000.0),\n",
              " ('Snoqualmie Pass', 525000.0),\n",
              " ('Beaux Arts Village', 745000.0),\n",
              " ('Milton', 285000.0)]"
            ]
          },
          "metadata": {},
          "execution_count": 8
        }
      ]
    },
    {
      "cell_type": "code",
      "metadata": {
        "id": "CURWshxdBqKo"
      },
      "source": [
        ""
      ],
      "execution_count": null,
      "outputs": []
    }
  ]
}